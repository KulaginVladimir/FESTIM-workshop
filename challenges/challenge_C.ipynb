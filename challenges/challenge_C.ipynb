{
 "cells": [
  {
   "cell_type": "markdown",
   "metadata": {},
   "source": [
    "# Challenge C: Evaulate the hydrogen surface flux from a Eurofer pipe"
   ]
  },
  {
   "cell_type": "markdown",
   "metadata": {},
   "source": [
    "## Description\n",
    "\n",
    "When hydrogen being transported through a piping network, some may permeate through the pipe walls. For this challenge you will need to evaulate how much hydorgen permeates from the outer surface at steady-state.\n",
    "\n",
    "Consider a Eurofer pipe with an outer diameter of 25mm and inner diamter of 20mm at a fixed temperature of 600K. The hydrogen within the pipe is kept at a constant pressure of 50 MPa and the outer surface in a vaccumm and can be modelled by fixing the concentration as 0.\n",
    "\n",
    "**📖 Task: Evaulate the hydrogen surface flux from the outer surface of the pipe**\n",
    "\n",
    "💡Hint: consider the <em>type</em> argument when defining the mesh."
   ]
  },
  {
   "cell_type": "code",
   "execution_count": 6,
   "metadata": {},
   "outputs": [],
   "source": [
    "import h_transport_materials as htm\n",
    "\n",
    "# eurofer properties\n",
    "D_eurofer = htm.diffusivities.filter(material=\"eurofer_97\").filter(author=\"chen\")[0]\n",
    "\n",
    "D_0_eurofer = D_eurofer.pre_exp.magnitude\n",
    "E_D_eurofer = D_eurofer.pre_exp.magnitude\n",
    "\n",
    "S_eurofer = htm.solubilities.filter(material=\"eurofer_97\").filter(author=\"chen\")[0]\n",
    "\n",
    "S_0_eurofer = S_eurofer.pre_exp.magnitude\n",
    "E_S_eurofer = S_eurofer.pre_exp.magnitude"
   ]
  },
  {
   "cell_type": "code",
   "execution_count": 7,
   "metadata": {},
   "outputs": [],
   "source": [
    "import festim as F\n",
    "\n",
    "# YOUR CODE GOES HERE ...\n",
    "\n"
   ]
  }
 ],
 "metadata": {
  "kernelspec": {
   "display_name": "festim-env",
   "language": "python",
   "name": "python3"
  },
  "language_info": {
   "codemirror_mode": {
    "name": "ipython",
    "version": 3
   },
   "file_extension": ".py",
   "mimetype": "text/x-python",
   "name": "python",
   "nbconvert_exporter": "python",
   "pygments_lexer": "ipython3",
   "version": "3.11.9"
  }
 },
 "nbformat": 4,
 "nbformat_minor": 2
}
