{
 "cells": [
  {
   "cell_type": "markdown",
   "metadata": {},
   "source": [
    "# Challenge D: Evaulate the hydrogen inventory within a complex structure\n",
    "\n",
    "## Description\n",
    "\n",
    "A complex geometry has been contructed and meshed in SALOME and the resulting .med file is located in the challenge_D folder. You will need to first convert this med file to .xdmf, the file format readable by fenics, a function has been provided for this, which will also produce the correspondance dictionary, providing the id's for each tagged volume and surface.\n",
    "\n",
    "The temperature field is to be solved within festim. Consider a thermal conductivity $315\\text{W}\\text{m}^{-1}\\text{K}^{-1}$ and boundary conditions of a fixed temperture of $600\\text{K}$ on $\\Gamma_{\\text{inner boundary}}$ and a cnovective heat flux on $\\Gamma_{\\text{outer boundary}}$, with a heat trasnfer coefficient of $10^{4}$ and outer temperature of $300\\text{K}$.\n",
    "\n",
    "For the hydorgen transport, consider an implantation flux of $10^{19} \\text{m}^{2}\\text{s}^{-1}$ with an implantation depth of $3\\text{nm}$ on $\\Gamma_{\\text{inner boundary}}$ and a fixed concentration of $0$ on $\\Gamma_{\\text{outer boundary}}$.\n",
    "\n",
    "**📖 Tasks:**\n",
    "\n",
    "- Evaluate the time to reach 99% of the eqilibrium\n",
    "- Evaluate the outwards flux\n",
    "- Evaluate the hydrogen inventory\n",
    "- Plot the evolution of the outwards flux and hydorgen inventory over time\n",
    "- Plot steady state temperatrue and mobile concentration fields\n",
    "\n",
    "The transport properties for the geometry's material can be found below:"
   ]
  },
  {
   "cell_type": "code",
   "execution_count": 1,
   "metadata": {},
   "outputs": [
    {
     "name": "stdout",
     "output_type": "stream",
     "text": [
      "Diffusivity of material: \n",
      " \n",
      "        Author: Eichenauer\n",
      "        Material: gold\n",
      "        Year: 1962\n",
      "        Isotope: H\n",
      "        Pre-exponential factor: 5.60×10⁻⁸ m²/s\n",
      "        Activation energy: 2.45×10⁻¹ eV/particle\n",
      "        \n"
     ]
    }
   ],
   "source": [
    "import h_transport_materials as htm\n",
    "\n",
    "# material properties\n",
    "D_mat = htm.diffusivities.filter(material=\"gold\")[0]\n",
    "\n",
    "print(f\"Diffusivity of material: \\n {D_mat}\")\n"
   ]
  },
  {
   "cell_type": "code",
   "execution_count": 7,
   "metadata": {},
   "outputs": [
    {
     "name": "stdout",
     "output_type": "stream",
     "text": [
      "This is the correspondance dict:\n",
      "{-6: ['solid'], -7: ['inner_boundary'], -8: ['outer_boundary']}\n"
     ]
    }
   ],
   "source": [
    "import meshio\n",
    "\n",
    "\n",
    "def convert_med_to_xdmf(\n",
    "    med_file,\n",
    "    cell_file=\"mesh_domains.xdmf\",\n",
    "    facet_file=\"mesh_boundaries.xdmf\",\n",
    "    cell_type=\"tetra\",\n",
    "    facet_type=\"triangle\",\n",
    "):\n",
    "    \"\"\"Converts a MED mesh to XDMF\n",
    "    Args:\n",
    "        med_file (str): the name of the MED file\n",
    "        cell_file (str, optional): the name of the file containing the\n",
    "            volume markers. Defaults to \"mesh_domains.xdmf\".\n",
    "        facet_file (str, optional): the name of the file containing the\n",
    "            surface markers.. Defaults to \"mesh_boundaries.xdmf\".\n",
    "        cell_type (str, optional): The topology of the cells. Defaults to \"tetra\".\n",
    "        facet_type (str, optional): The topology of the facets. Defaults to \"triangle\".\n",
    "    Returns:\n",
    "        dict, dict: the correspondance dict, the cell types\n",
    "    \"\"\"\n",
    "    msh = meshio.read(med_file)\n",
    "\n",
    "    correspondance_dict = msh.cell_tags\n",
    "\n",
    "    cell_data_types = msh.cell_data_dict[\"cell_tags\"].keys()\n",
    "\n",
    "    for mesh_block in msh.cells:\n",
    "        if mesh_block.type == cell_type:\n",
    "\n",
    "            meshio.write_points_cells(\n",
    "                cell_file,\n",
    "                msh.points,\n",
    "                [mesh_block],\n",
    "                cell_data={\"f\": [-1 * msh.cell_data_dict[\"cell_tags\"][cell_type]]},\n",
    "            )\n",
    "        elif mesh_block.type == facet_type:\n",
    "            meshio.write_points_cells(\n",
    "                facet_file,\n",
    "                msh.points,\n",
    "                [mesh_block],\n",
    "                cell_data={\"f\": [-1 * msh.cell_data_dict[\"cell_tags\"][facet_type]]},\n",
    "            )\n",
    "\n",
    "    return correspondance_dict, cell_data_types\n",
    "\n",
    "\n",
    "mesh_file = \"challenge_D/challenge_mesh.med\"\n",
    "\n",
    "correspondance_dict, cell_data_types = convert_med_to_xdmf(\n",
    "    mesh_file,\n",
    "    cell_type=\"triangle\",\n",
    "    facet_type=\"line\",\n",
    "    cell_file=\"challenge_D/mesh_domains.xdmf\",\n",
    "    facet_file=\"challenge_D/mesh_boundaries.xdmf\",\n",
    ")\n",
    "\n",
    "print(\"This is the correspondance dict:\")\n",
    "print(correspondance_dict)"
   ]
  },
  {
   "cell_type": "markdown",
   "metadata": {},
   "source": [
    "## Your answer"
   ]
  },
  {
   "cell_type": "code",
   "execution_count": null,
   "metadata": {},
   "outputs": [],
   "source": [
    "import festim as F\n",
    "\n",
    "# YOUR CODE GOES HERE ...\n"
   ]
  }
 ],
 "metadata": {
  "kernelspec": {
   "display_name": "festim-env",
   "language": "python",
   "name": "python3"
  },
  "language_info": {
   "codemirror_mode": {
    "name": "ipython",
    "version": 3
   },
   "file_extension": ".py",
   "mimetype": "text/x-python",
   "name": "python",
   "nbconvert_exporter": "python",
   "pygments_lexer": "ipython3",
   "version": "3.11.9"
  }
 },
 "nbformat": 4,
 "nbformat_minor": 2
}
