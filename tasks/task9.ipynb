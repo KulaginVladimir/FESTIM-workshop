{
 "cells": [
  {
   "attachments": {},
   "cell_type": "markdown",
   "metadata": {},
   "source": [
    "# Integration with HTM\n",
    "\n",
    "H-transport-materials (HTM) is a python library for accessing hydrogen transport properties such as diffusivities, solubilities, recombination coefficients, etc.\n",
    "\n",
    "It is an open-source project and contributions to the database are more than welcome!\n",
    "Many materials are already available: Tungsten, copper, CuCrZr, Flinak, Flibe...\n",
    "\n",
    "To install HTM simply run:\n",
    "```\n",
    "pip install h-transport-materials\n",
    "```\n",
    "\n",
    "👉 [GitHub repository](https://github.com/RemDelaporteMathurin/h-transport-materials)\n",
    "\n",
    "👉 [web dashboard](https://htm-dashboard-uan5l4xr6a-od.a.run.app/)\n",
    "\n",
    "\n",
    "Now the interesting thing with HTM is that it can be used in FESTIM.\n",
    "\n",
    "Let's first have a look at the HTM api."
   ]
  },
  {
   "attachments": {},
   "cell_type": "markdown",
   "metadata": {},
   "source": [
    "## The HTM library\n",
    "The diffusivities in the HTM database are stored in `htm.diffusivities`.\n",
    "\n",
    "They can be filtered by material, isotope, author, year with the `.filter()` method."
   ]
  },
  {
   "cell_type": "code",
   "execution_count": null,
   "metadata": {},
   "outputs": [],
   "source": [
    "import h_transport_materials as htm\n",
    "\n",
    "# filter only tungsten and H\n",
    "diffusivities = htm.diffusivities.filter(material=\"tungsten\").filter(isotope=\"h\")\n",
    "\n",
    "\n",
    "# plot the properties\n",
    "htm.plotting.plot(diffusivities)\n",
    "\n",
    "import matplotlib.pyplot as plt\n",
    "\n",
    "plt.yscale(\"log\")\n",
    "plt.ylabel(\"Diffusivity (m$^2$/s)\")\n",
    "plt.legend()\n",
    "plt.show()"
   ]
  },
  {
   "cell_type": "code",
   "execution_count": null,
   "metadata": {},
   "outputs": [],
   "source": [
    "plt.figure()\n",
    "# filter only tungsten and H\n",
    "solubilities = htm.solubilities.filter(material=\"tungsten\")\n",
    "\n",
    "htm.plotting.plot(solubilities)\n",
    "\n",
    "\n",
    "plt.yscale(\"log\")\n",
    "plt.ylabel(\"Solubility\")\n",
    "plt.legend()\n",
    "plt.show()"
   ]
  },
  {
   "attachments": {},
   "cell_type": "markdown",
   "metadata": {},
   "source": [
    "## FESTIM integration\n",
    "\n",
    "We want to use the properties of Frauenfelder for tungsten.\n",
    "\n",
    "Let's therefore filter the properties with `.filter(author=\"frauenfelder\")`.\n",
    "\n",
    "We can obtain a single `htm.ArrheniusProperty` object:"
   ]
  },
  {
   "cell_type": "code",
   "execution_count": null,
   "metadata": {},
   "outputs": [],
   "source": [
    "diffusivities = htm.diffusivities.filter(material=\"tungsten\").filter(isotope=\"h\").filter(author=\"frauenfelder\")\n",
    "D = diffusivities[0]\n",
    "\n",
    "print(type(diffusivities))\n",
    "print(type(D))"
   ]
  },
  {
   "attachments": {},
   "cell_type": "markdown",
   "metadata": {},
   "source": [
    "A `htm.ArrheniusProperty` object has several useful attributes like `.pre_exp` which holds the pre-exponential factor, `.act_energy` for the activation energy but also `.author` and `.year`."
   ]
  },
  {
   "cell_type": "code",
   "execution_count": null,
   "metadata": {},
   "outputs": [],
   "source": [
    "print(D)"
   ]
  },
  {
   "attachments": {},
   "cell_type": "markdown",
   "metadata": {},
   "source": [
    "Let's pick a solubility too:"
   ]
  },
  {
   "cell_type": "code",
   "execution_count": null,
   "metadata": {},
   "outputs": [],
   "source": [
    "S = htm.solubilities.filter(material=\"tungsten\").filter(author=\"frauenfelder\")[0]"
   ]
  },
  {
   "attachments": {},
   "cell_type": "markdown",
   "metadata": {},
   "source": [
    "These properties can then be used inside a `FESTIM.Material` object.\n",
    "\n",
    "This is extremely useful to avoid silly copy-pasting mistakes and typos in simulations."
   ]
  },
  {
   "cell_type": "code",
   "execution_count": null,
   "metadata": {},
   "outputs": [],
   "source": [
    "import festim as F\n",
    "\n",
    "\n",
    "tungsten = F.Material(\n",
    "    id=1,\n",
    "    D_0=D.pre_exp.magnitude, E_D=D.act_energy.magnitude,\n",
    "    S_0=S.pre_exp.magnitude, E_S=S.act_energy.magnitude\n",
    "    )"
   ]
  }
 ],
 "metadata": {
  "kernelspec": {
   "display_name": "Python 3.9.12 ('base')",
   "language": "python",
   "name": "python3"
  },
  "language_info": {
   "codemirror_mode": {
    "name": "ipython",
    "version": 3
   },
   "file_extension": ".py",
   "mimetype": "text/x-python",
   "name": "python",
   "nbconvert_exporter": "python",
   "pygments_lexer": "ipython3",
   "version": "3.10.11"
  },
  "orig_nbformat": 4,
  "vscode": {
   "interpreter": {
    "hash": "d4d1e4263499bec80672ea0156c357c1ee493ec2b1c70f0acce89fc37c4a6abe"
   }
  }
 },
 "nbformat": 4,
 "nbformat_minor": 2
}
