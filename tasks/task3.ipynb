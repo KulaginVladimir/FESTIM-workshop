{
 "cells": [
  {
   "attachments": {},
   "cell_type": "markdown",
   "metadata": {},
   "source": [
    "# Simple permeation simulation\n",
    "\n",
    "In this task, we'll go through the basics of FESTIM and run a simple permeation simulation on a 1D domain."
   ]
  },
  {
   "cell_type": "code",
   "execution_count": 1,
   "metadata": {},
   "outputs": [],
   "source": [
    "import festim as F"
   ]
  },
  {
   "attachments": {},
   "cell_type": "markdown",
   "metadata": {},
   "source": [
    "The first step is to create a model using a `Simulation` object."
   ]
  },
  {
   "cell_type": "code",
   "execution_count": 2,
   "metadata": {},
   "outputs": [],
   "source": [
    "my_model = F.Simulation()"
   ]
  },
  {
   "attachments": {},
   "cell_type": "markdown",
   "metadata": {},
   "source": [
    "We'll consider a 3 mm-thick material and a regular mesh (1000 cells)"
   ]
  },
  {
   "cell_type": "code",
   "execution_count": 3,
   "metadata": {},
   "outputs": [],
   "source": [
    "import numpy as np\n",
    "\n",
    "my_model.mesh = F.MeshFromVertices(\n",
    "    vertices=np.linspace(0, 3e-4, num=1001)\n",
    ")"
   ]
  },
  {
   "attachments": {},
   "cell_type": "markdown",
   "metadata": {},
   "source": [
    "`Material` objects hold the materials properties like diffusivity and solubility.\n",
    "\n",
    "Here we only need the diffusivity defined as an Arrhenius law: $D = D_0 \\exp{(-E_D/k_B T)}$ where $k_B$ is the Boltzmann constant in eV/K and $T$ is the temperature in K. From this, the pre-exponential coefficient, $D_0$ in units m<sup>2</sup>/s, and the diffusion actiavtion energy, $E_D$ in units eV are needed.`"
   ]
  },
  {
   "cell_type": "code",
   "execution_count": 4,
   "metadata": {},
   "outputs": [],
   "source": [
    "my_model.materials = F.Material(id=1, D_0=1.9e-7, E_D=0.2)"
   ]
  },
  {
   "attachments": {},
   "cell_type": "markdown",
   "metadata": {},
   "source": [
    "The temperature is set at 500 K"
   ]
  },
  {
   "cell_type": "code",
   "execution_count": 5,
   "metadata": {},
   "outputs": [],
   "source": [
    "my_model.T = F.Temperature(value=500)"
   ]
  },
  {
   "attachments": {},
   "cell_type": "markdown",
   "metadata": {},
   "source": [
    "FESTIM has a `SievertsBC` class representing Sievert's law of solubility: $c = S \\ \\sqrt{P}$ at metal surfaces.\n",
    "\n",
    "> Note:\n",
    "> \n",
    "> A similar class exists for non-metallic materials behaving according to Henry's law: `HenrysBC`\n",
    "\n",
    "We'll use this boundary condition on the left surface (`id=1`) and will assume a zero concentration on the right side (`id=2`)."
   ]
  },
  {
   "cell_type": "code",
   "execution_count": 6,
   "metadata": {},
   "outputs": [],
   "source": [
    "P_up = 100  # Pa\n",
    "\n",
    "my_model.boundary_conditions = [\n",
    "    F.SievertsBC(surfaces=1, S_0=4.02e21, E_S=1.04, pressure=P_up),\n",
    "    F.DirichletBC(surfaces=2, value=0, field=0)\n",
    "]"
   ]
  },
  {
   "attachments": {},
   "cell_type": "markdown",
   "metadata": {},
   "source": [
    "With `Settings` we set the main solver parameters."
   ]
  },
  {
   "cell_type": "code",
   "execution_count": 7,
   "metadata": {},
   "outputs": [],
   "source": [
    "my_model.settings = F.Settings(\n",
    "    absolute_tolerance=1e-2,\n",
    "    relative_tolerance=1e-10,\n",
    "    final_time=100  # s\n",
    "    )"
   ]
  },
  {
   "attachments": {},
   "cell_type": "markdown",
   "metadata": {},
   "source": [
    "Let's choose a stepsize small enough to have good temporal resolution, with 1% change ratio:"
   ]
  },
  {
   "cell_type": "code",
   "execution_count": 8,
   "metadata": {},
   "outputs": [],
   "source": [
    "my_model.dt = F.Stepsize(initial_value=1/20)"
   ]
  },
  {
   "attachments": {},
   "cell_type": "markdown",
   "metadata": {},
   "source": [
    "For this permeation experiment, we are only interested in the hydrogen flux on the right side:"
   ]
  },
  {
   "cell_type": "code",
   "execution_count": 9,
   "metadata": {},
   "outputs": [],
   "source": [
    "derived_quantities = F.DerivedQuantities([F.HydrogenFlux(surface=2)])\n",
    "\n",
    "my_model.exports = [derived_quantities]"
   ]
  },
  {
   "cell_type": "code",
   "execution_count": 10,
   "metadata": {},
   "outputs": [
    {
     "name": "stdout",
     "output_type": "stream",
     "text": [
      "Defining initial values\n",
      "Defining variational problem\n",
      "Defining source terms\n",
      "Defining boundary conditions\n",
      "Time stepping...\n",
      "Calling FFC just-in-time (JIT) compiler, this may take some time.\n",
      "Calling FFC just-in-time (JIT) compiler, this may take some time.\n",
      "100.0 %        1.0e+02 s    Ellapsed time so far: 16.4 s\n"
     ]
    }
   ],
   "source": [
    "my_model.initialise()\n",
    "\n",
    "my_model.run()"
   ]
  },
  {
   "attachments": {},
   "cell_type": "markdown",
   "metadata": {},
   "source": [
    "This problem can be solved analytically. The solution for the downstream flux is:\n",
    "\n",
    "$$\\mathrm{downstream \\ flux} = \\frac{P_\\mathrm{up} \\Phi}{L} \\left(1 + 2 \\sum_{n=1}^{\\infty} \\left(-1\\right)^{n} \\exp{(- \\frac{\\pi^{2} D n^{2} t}{L^{2}})}\\right) $$"
   ]
  },
  {
   "cell_type": "code",
   "execution_count": 11,
   "metadata": {},
   "outputs": [],
   "source": [
    "def downstream_flux(t, P_up, permeability, L, D):\n",
    "    \"\"\"calculates the downstream H flux at a given time t\n",
    "\n",
    "    Args:\n",
    "        t (float, np.array): the time\n",
    "        P_up (float): upstream partial pressure of H\n",
    "        permeability (float): material permeability\n",
    "        L (float): material thickness\n",
    "        D (float): diffusivity of H in the material\n",
    "\n",
    "    Returns:\n",
    "        float, np.array: the downstream flux of H\n",
    "    \"\"\"\n",
    "    n_array = np.arange(1, 10000)[:, np.newaxis]\n",
    "    summation = np.sum((-1)**n_array * np.exp(-(np.pi * n_array)**2 * D/L**2 * t), axis=0)\n",
    "    return P_up**0.5 * permeability / L * (2*summation + 1)"
   ]
  },
  {
   "attachments": {},
   "cell_type": "markdown",
   "metadata": {},
   "source": [
    "We can compare the computed downstream flux to the analytical solution:"
   ]
  },
  {
   "cell_type": "code",
   "execution_count": 12,
   "metadata": {},
   "outputs": [
    {
     "data": {
      "text/plain": [
       "Text(0, 0.5, 'Downstream flux (H/m2/s)')"
      ]
     },
     "execution_count": 12,
     "metadata": {},
     "output_type": "execute_result"
    },
    {
     "data": {
      "image/png": "[encoded data removed]",
      "text/plain": [
       "<Figure size 432x288 with 1 Axes>"
      ]
     },
     "metadata": {
      "needs_background": "light"
     },
     "output_type": "display_data"
    }
   ],
   "source": [
    "times = derived_quantities.t\n",
    "computed_flux = derived_quantities.filter(surfaces=2).data\n",
    "\n",
    "D = 1.9e-7*np.exp(-0.2/F.k_B/500)\n",
    "S = 4.02e21*np.exp(-1.04/F.k_B/500)\n",
    "\n",
    "import matplotlib.pyplot as plt\n",
    "plt.scatter(times, np.abs(computed_flux), alpha=0.2, label=\"computed\")\n",
    "plt.plot(times, downstream_flux(times, P_up, permeability=D*S, L=3e-4, D=D), color=\"tab:orange\", label=\"analytical\")\n",
    "plt.ylim(bottom=0)\n",
    "plt.xlabel(\"Time (s)\")\n",
    "plt.ylabel(\"Downstream flux (H/m2/s)\")"
   ]
  },
  {
   "attachments": {},
   "cell_type": "markdown",
   "metadata": {},
   "source": [
    "Phew! We have a good agreement between our model and the analytical solution!\n",
    "\n",
    "To reproduce simple permeation experiments, the analytical solution is obviously enough.\n",
    "However, for more complex scenarios (transients, trapping regimes,..) a numerical model provides more flexibility.\n",
    "\n",
    "\n",
    "## Task\n",
    "\n",
    "1) Add a trap with the following properties to the model:\n",
    "\n",
    "    $k_0 = 3.8\\times 10^{-17}$ m3/s\n",
    "\n",
    "    $E_k = 0.2$ eV\n",
    "\n",
    "    $p_0 = 10^{13}$ 1/s\n",
    "\n",
    "    $E_p =1.2$ eV\n",
    "\n",
    "    density: $10^{19}$ trap/m3\n",
    "\n",
    "    <details>\n",
    "    <summary>Show solution</summary>\n",
    "    <br>\n",
    "    To add a trap to the simulation, simply add the following lines\n",
    "\n",
    "    ```python\n",
    "    trap = F.Trap(\n",
    "            k_0=3.8e-17,\n",
    "            E_k=0.2,\n",
    "            p_0=1e13,\n",
    "            E_p=1.2,\n",
    "            density=1e19,\n",
    "            materials=my_model.materials.materials[0]\n",
    "        )\n",
    "\n",
    "    my_model.traps = [trap]\n",
    "    ```\n",
    "\n",
    "    </br>\n",
    "    </details><br />\n",
    "\n",
    "\n",
    "2) What can you observe on the permeation curve?\n",
    "\n",
    "    <details>\n",
    "    <summary>Show solution</summary>\n",
    "    <br>\n",
    "\n",
    "    The presence of a trap delays the permeation curve.\n",
    "    \n",
    "    However, the steady state permeation flux is unchanged.\n",
    "\n",
    "    ![image](https://github.com/RemDelaporteMathurin/FESTIM-workshop/assets/40028739/74b7f8aa-67f6-4a70-b712-fc994b272622)\n",
    "\n",
    "    </br>\n",
    "    </details>"
   ]
  }
 ],
 "metadata": {
  "kernelspec": {
   "display_name": "Python 3.9.12 ('base')",
   "language": "python",
   "name": "python3"
  },
  "language_info": {
   "codemirror_mode": {
    "name": "ipython",
    "version": 3
   },
   "file_extension": ".py",
   "mimetype": "text/x-python",
   "name": "python",
   "nbconvert_exporter": "python",
   "pygments_lexer": "ipython3",
   "version": "3.6.9"
  },
  "orig_nbformat": 4,
  "vscode": {
   "interpreter": {
    "hash": "d4d1e4263499bec80672ea0156c357c1ee493ec2b1c70f0acce89fc37c4a6abe"
   }
  }
 },
 "nbformat": 4,
 "nbformat_minor": 2
}
