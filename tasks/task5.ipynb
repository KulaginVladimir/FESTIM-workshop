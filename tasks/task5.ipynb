{
 "cells": [
  {
   "attachments": {},
   "cell_type": "markdown",
   "metadata": {},
   "source": [
    "# Visualisation and post-processing\n",
    "\n",
    "In this task, we'll learn how to visualise FESTIM results.\n",
    "\n",
    "Let's create a 1D simulation."
   ]
  },
  {
   "cell_type": "code",
   "execution_count": null,
   "metadata": {},
   "outputs": [],
   "source": [
    "import festim as F\n",
    "import numpy as np\n",
    "\n",
    "my_model = F.Simulation()\n",
    "\n",
    "my_model.mesh = F.MeshFromVertices(\n",
    "    vertices=np.linspace(0, 1, num=1000)\n",
    ")\n",
    "\n",
    "my_material = F.Material(id=1, D_0=1, E_D=0.2)\n",
    "my_model.materials = my_material\n",
    "\n",
    "my_model.traps = F.Trap(k_0=1, E_k=0, p_0=0.1, E_p=0, materials=my_material, density=0.5)\n",
    "\n",
    "# temperature varying in space and time\n",
    "my_model.T = F.Temperature(500 + F.x + F.t)\n",
    "\n",
    "my_model.boundary_conditions = [\n",
    "    F.DirichletBC(\n",
    "        surfaces=[1, 2],\n",
    "        value=1 + F.x,  # 1 in x=0, 2 in x=1\n",
    "        field=0\n",
    "        )\n",
    "]\n",
    "\n",
    "my_model.settings = F.Settings(\n",
    "    absolute_tolerance=1e-10,\n",
    "    relative_tolerance=1e-10,\n",
    "    final_time=100\n",
    "    )\n",
    "\n",
    "my_model.dt = F.Stepsize(0.1, stepsize_change_ratio=1.1, dt_min=1e-5)"
   ]
  },
  {
   "attachments": {},
   "cell_type": "markdown",
   "metadata": {},
   "source": [
    "We now want to export the temperature, the mobile concentration field, and the total retention (mobile + trapped).\n",
    "\n",
    ">\n",
    "> Note: in 1D, to visualise the XDMF files in Paraview, the `checkpoint` argument needs to be `False` (see [#134](https://github.com/RemDelaporteMathurin/FESTIM/issues/134))\n",
    ">"
   ]
  },
  {
   "cell_type": "code",
   "execution_count": null,
   "metadata": {},
   "outputs": [],
   "source": [
    "export_folder = \"task4\"\n",
    "\n",
    "xdmf_exports = [\n",
    "    F.XDMFExport(field=\"solute\", filename=export_folder + \"/hydrogen_concentration.xdmf\", checkpoint=False),\n",
    "    F.XDMFExport(field=\"retention\", filename=export_folder + \"/retention.xdmf\", checkpoint=False),\n",
    "    F.XDMFExport(field=\"T\", filename=export_folder + \"/T.xdmf\", checkpoint=False),\n",
    "]"
   ]
  },
  {
   "attachments": {},
   "cell_type": "markdown",
   "metadata": {},
   "source": [
    "We would also like to visualise the total hydrogen inventory, the particle fluxes at the surfaces, and the average temperature."
   ]
  },
  {
   "cell_type": "code",
   "execution_count": null,
   "metadata": {},
   "outputs": [],
   "source": [
    "derived_quantities = F.DerivedQuantities(\n",
    "    [\n",
    "        F.TotalVolume(field=\"retention\", volume=1),\n",
    "        F.HydrogenFlux(surface=1),\n",
    "        F.HydrogenFlux(surface=2),\n",
    "        F.AverageVolume(field=\"T\", volume=1)\n",
    "    ],\n",
    "    filename=export_folder + \"/derived_quantities.csv\"\n",
    ")\n",
    "\n",
    "my_model.exports = [derived_quantities] + xdmf_exports"
   ]
  },
  {
   "cell_type": "code",
   "execution_count": null,
   "metadata": {},
   "outputs": [],
   "source": [
    "my_model.initialise()\n",
    "\n",
    "my_model.run()"
   ]
  },
  {
   "attachments": {},
   "cell_type": "markdown",
   "metadata": {},
   "source": [
    "Several files were created.\n",
    "\n",
    "The XDMF files can be opened in [Paraview](https://www.paraview.org/) for visualisation.\n",
    "\n",
    "The derived_quantities.csv file can be read in Excel, or programmatically in python.\n"
   ]
  },
  {
   "cell_type": "code",
   "execution_count": null,
   "metadata": {},
   "outputs": [],
   "source": [
    "# load the csv file with numpy\n",
    "data = np.genfromtxt(export_folder + \"/derived_quantities.csv\", delimiter=\",\", names=True)\n",
    "\n",
    "# print the columns names\n",
    "print(data.dtype.names)"
   ]
  },
  {
   "cell_type": "code",
   "execution_count": null,
   "metadata": {},
   "outputs": [],
   "source": [
    "print(data[\"ts\"])"
   ]
  },
  {
   "cell_type": "code",
   "execution_count": null,
   "metadata": {},
   "outputs": [],
   "source": [
    "import matplotlib.pyplot as plt\n",
    "\n",
    "plt.plot(data[\"ts\"], data[\"Flux_surface_1_solute\"])\n",
    "plt.plot(data[\"ts\"], data[\"Flux_surface_2_solute\"])\n",
    "\n",
    "plt.xlabel(\"Time\")\n",
    "\n",
    "plt.ylabel(\"H flux\")"
   ]
  },
  {
   "attachments": {},
   "cell_type": "markdown",
   "metadata": {},
   "source": [
    "Alternatively, one can use the `plot` function of FEniCS to plot fields directly."
   ]
  },
  {
   "cell_type": "code",
   "execution_count": null,
   "metadata": {},
   "outputs": [],
   "source": [
    "from fenics import plot\n",
    "\n",
    "plot(my_model.T.T)"
   ]
  },
  {
   "cell_type": "code",
   "execution_count": null,
   "metadata": {},
   "outputs": [],
   "source": [
    "plot(my_model.h_transport_problem.mobile.solution)"
   ]
  },
  {
   "attachments": {},
   "cell_type": "markdown",
   "metadata": {},
   "source": [
    "If the workshop if being run in GitHub codespaces, the XDMF files will not be readable in Paraview, however this is how they should look:\n",
    "\n",
    "Temperature field:\n",
    "<p align=\"center\">\n",
    "  <img src=\"https://github.com/RemDelaporteMathurin/FESTIM-workshop/assets/65899899/3db25229-a752-49b9-9ba4-2b19d1dc3252\" width=\"30%\">\n",
    "</p>\n",
    "\n",
    "Temperature profile:\n",
    "<p align=\"center\">\n",
    "  <img src=\"https://github.com/RemDelaporteMathurin/FESTIM-workshop/assets/65899899/2c135663-a1aa-4c1d-9eef-d4a615b34bc0\" width=\"30%\">\n",
    "</p>\n",
    "\n",
    "Mobile concentration vs retention:\n",
    "<p align=\"center\">\n",
    "  <img src=\"https://github.com/RemDelaporteMathurin/FESTIM-workshop/assets/65899899/2ca1b424-652b-4b6d-8b37-51905cc9f7b3\" width=\"30%\">\n",
    "</p>"
   ]
  }
 ],
 "metadata": {
  "kernelspec": {
   "display_name": "Python 3.9.12 ('base')",
   "language": "python",
   "name": "python3"
  },
  "language_info": {
   "codemirror_mode": {
    "name": "ipython",
    "version": 3
   },
   "file_extension": ".py",
   "mimetype": "text/x-python",
   "name": "python",
   "nbconvert_exporter": "python",
   "pygments_lexer": "ipython3",
   "version": "3.6.9"
  },
  "orig_nbformat": 4,
  "vscode": {
   "interpreter": {
    "hash": "d4d1e4263499bec80672ea0156c357c1ee493ec2b1c70f0acce89fc37c4a6abe"
   }
  }
 },
 "nbformat": 4,
 "nbformat_minor": 2
}
