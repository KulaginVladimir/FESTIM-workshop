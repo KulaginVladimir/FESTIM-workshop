{
 "cells": [
  {
   "attachments": {},
   "cell_type": "markdown",
   "metadata": {},
   "source": [
    "# Simple permeation simulation\n",
    "\n",
    "In this task, we'll go through the basics of FESTIM and run a simple permeation simulation on a 1D domain."
   ]
  },
  {
   "cell_type": "code",
   "execution_count": 31,
   "metadata": {},
   "outputs": [],
   "source": [
    "import festim as F"
   ]
  },
  {
   "attachments": {},
   "cell_type": "markdown",
   "metadata": {},
   "source": [
    "The first step is to create a model using a `Simulation` object."
   ]
  },
  {
   "cell_type": "code",
   "execution_count": 32,
   "metadata": {},
   "outputs": [],
   "source": [
    "my_model = F.Simulation()"
   ]
  },
  {
   "attachments": {},
   "cell_type": "markdown",
   "metadata": {},
   "source": [
    "FESTIM simulations need a mesh. FESTIM provides support for simple 1D meshes. More complicated meshes can be imported from external software (see [Task 7](https://github.com/RemDelaporteMathurin/FESTIM-workshop/blob/main/tasks/task7.ipynb)).\n",
    "\n",
    "The most straightforward mesh is `MeshFromVertices`, which takes a `vertices` argument.\n",
    "Here's a simple mesh with 4 cells:"
   ]
  },
  {
   "cell_type": "code",
   "execution_count": null,
   "metadata": {},
   "outputs": [],
   "source": [
    "F.MeshFromVertices(vertices=[0, 1, 2, 3, 4, 5, 6, 7, 7.5])"
   ]
  },
  {
   "attachments": {},
   "cell_type": "markdown",
   "metadata": {},
   "source": [
    "Numpy can be used to generate heavier meshes. Here we create a mesh containing 1000 cells over a [0, 1e-6] domain (1 $\\mu m$).\n",
    "\n",
    "This mesh is assigned to `my_model`."
   ]
  },
  {
   "cell_type": "code",
   "execution_count": 34,
   "metadata": {},
   "outputs": [],
   "source": [
    "import numpy as np\n",
    "\n",
    "my_model.mesh = F.MeshFromVertices(\n",
    "    vertices=np.linspace(0, 1e-6, num=1001)\n",
    ")"
   ]
  },
  {
   "attachments": {},
   "cell_type": "markdown",
   "metadata": {},
   "source": [
    "`Material` objects hold the materials properties like diffusivity and solubility.\n",
    "\n",
    "Here we only need the diffusivity defined as an Arrhenius law: $D = D_0 \\exp{(-E_D/k_B T)}$ where $k_B$ is the Boltzmann constant in eV/K and $T$ is the temperature in K. From this, the pre-exponential coefficient, $D_0$ in units m2/s, and the diffusion actiavtion energy, $E_D$ in units eV are needed.`"
   ]
  },
  {
   "cell_type": "code",
   "execution_count": 35,
   "metadata": {},
   "outputs": [],
   "source": [
    "my_model.materials = F.Material(id=1, D_0=1.9e-7, E_D=0.2)"
   ]
  },
  {
   "attachments": {},
   "cell_type": "markdown",
   "metadata": {},
   "source": [
    "Temperature is a very important parameter in hydrogen transport.\n",
    "It has to be defined as a `Temperature` object.\n",
    "It takes a `value` argument which can be a simple float (like here `500`) or a `sympy` expression like `500 + 3*sympy.exp(-F.x)`.\n",
    "\n",
    "The temperature is in K.\n",
    "\n",
    ">Note:\n",
    ">\n",
    ">For heat transfer simulations, the `HeatTransferProblem` can be used instead. See [Heat transfer simulation](https://github.com/RemDelaporteMathurin/FESTIM-workshop/blob/main/tasks/task6.ipynb)"
   ]
  },
  {
   "cell_type": "code",
   "execution_count": 36,
   "metadata": {},
   "outputs": [],
   "source": [
    "my_model.T = F.Temperature(500)"
   ]
  },
  {
   "attachments": {},
   "cell_type": "markdown",
   "metadata": {},
   "source": [
    "Our hydrogen transport problem now needs boundary conditions and a volumetric source term.\n",
    "\n",
    "FESTIM provides plenty of boundary conditions (see [Dirichlet BCs](https://festim.readthedocs.io/en/latest/api/festim.boundary_conditions.dirichlets.html#festim-boundary-conditions-dirichlets-package) and [Fluxes](https://festim.readthedocs.io/en/latest/api/festim.boundary_conditions.fluxes.html)).\n",
    "\n",
    "Here we'll simply set the mobile concentration at ``1e15`` on the left and right boundaries (resp. `1` and `2`).\n",
    "\n",
    "- ``field`` represents the variable on which the boundary condition is imposed. Here, `0` stands for the mobile hydrogen concentration.\n",
    "\n",
    "- ``value`` is the value of the mobile concentration. Again, it could be a function of time and space with ``1e15*F.x + F.t``\n",
    "\n",
    "- ``surfaces`` is a list of surfaces ids (in 1D, `1` is left and `2` is right)"
   ]
  },
  {
   "cell_type": "code",
   "execution_count": 37,
   "metadata": {},
   "outputs": [],
   "source": [
    "my_model.boundary_conditions = [\n",
    "    F.DirichletBC(\n",
    "        surfaces=[1, 2],\n",
    "        value=1e15,   # H/m3/s\n",
    "        field=0\n",
    "        )\n",
    "]\n",
    "\n",
    "\n",
    "my_model.sources = [F.Source(1e15, volume=1, field=0)]"
   ]
  },
  {
   "attachments": {},
   "cell_type": "markdown",
   "metadata": {},
   "source": [
    "With `Settings` we set the main solver parameters.\n",
    "- `absolute_tolerance`: the absolute tolerance of the Newton solver. For concentrations in $\\mathrm{m}^{-3}$, `1e10` is usually fine.\n",
    "- `relative_tolerance`: the relative tolerance of the Newton solver. Values around `1e-10` are good practices.\n",
    "- `final_time`: since we want to solve a transient problem, we need to set the final time. Here, 100 s."
   ]
  },
  {
   "cell_type": "code",
   "execution_count": 38,
   "metadata": {},
   "outputs": [],
   "source": [
    "my_model.settings = F.Settings(\n",
    "    absolute_tolerance=1e10,\n",
    "    relative_tolerance=1e-10,\n",
    "    final_time=100  # s\n",
    "    )"
   ]
  },
  {
   "attachments": {},
   "cell_type": "markdown",
   "metadata": {},
   "source": [
    "Since we are solving a transient problem, we need to set a ``Stepsize``.\n",
    "Here, the value of the stepsize is fixed at 0.1.\n",
    "\n",
    "> Note:\n",
    ">\n",
    "> Transient simulations can be accelerated with adaptive stepsize. See [Task 2](https://github.com/RemDelaporteMathurin/FESTIM-workshop/blob/main/tasks/task2.ipynb)"
   ]
  },
  {
   "cell_type": "code",
   "execution_count": 39,
   "metadata": {},
   "outputs": [],
   "source": [
    "my_model.dt = F.Stepsize(0.1)  # s"
   ]
  },
  {
   "attachments": {},
   "cell_type": "markdown",
   "metadata": {},
   "source": [
    "Finally, we want to be able to visualise the concentration field.\n",
    "To do so, we add an `XDMFExport` object which will export the concentration field at each timestep to an XDMF file.\n",
    "This XDMF file can then be read in [Paraview](https://www.paraview.org/).\n",
    "\n",
    "- `field`: the field we want to export. Here, `\"solute\"` stands for the mobile concentration of hydrogen. It could be ``\"retention\"``, ``\"1\"`` (trap 1), ``\"T\"`` (temperature)\n",
    "\n",
    "- `filename`: the path to the exported file\n",
    "\n",
    "> Note:\n",
    ">\n",
    "> For 1D fields, the `checkpoint` attribute needs to be set to ``False`` to be visualise in Paraview. Refer to [this issue](https://github.com/RemDelaporteMathurin/FESTIM/issues/134). "
   ]
  },
  {
   "cell_type": "code",
   "execution_count": 40,
   "metadata": {},
   "outputs": [],
   "source": [
    "my_model.exports = [\n",
    "    F.XDMFExport(\n",
    "        field=\"solute\",\n",
    "        filename=\"hydrogen_concentration.xdmf\",\n",
    "        checkpoint=False  # needed in 1D\n",
    "        )\n",
    "]"
   ]
  },
  {
   "attachments": {},
   "cell_type": "markdown",
   "metadata": {},
   "source": [
    "Finally, we initialise the model and run it!"
   ]
  },
  {
   "cell_type": "code",
   "execution_count": 41,
   "metadata": {},
   "outputs": [
    {
     "name": "stdout",
     "output_type": "stream",
     "text": [
      "Defining initial values\n",
      "Defining variational problem\n",
      "Defining source terms\n",
      "Defining boundary conditions\n",
      "Time stepping...\n",
      "100.0 %        1.0e+02 s    Ellapsed time so far: 5.4 s\n"
     ]
    }
   ],
   "source": [
    "my_model.initialise()\n",
    "\n",
    "my_model.run()"
   ]
  },
  {
   "attachments": {},
   "cell_type": "markdown",
   "metadata": {},
   "source": [
    "Two files should have been created: hydrogen_concentration.xdmf and hydrogen_concentration.h5.\n",
    "The .xdmf file is the one that can be opened in Paraview, and it points to the .h5 file.\n",
    "\n",
    "\n",
    "\n",
    "To solve the steady-state problem, simply set:"
   ]
  },
  {
   "cell_type": "code",
   "execution_count": 44,
   "metadata": {},
   "outputs": [],
   "source": [
    "my_model.settings.transient = False\n",
    "my_model.dt = None"
   ]
  },
  {
   "cell_type": "code",
   "execution_count": 45,
   "metadata": {},
   "outputs": [
    {
     "name": "stdout",
     "output_type": "stream",
     "text": [
      "Defining initial values\n",
      "Defining variational problem\n",
      "Defining source terms\n",
      "Defining boundary conditions\n",
      "Solving steady state problem...\n",
      "Solved problem in 0.00 s\n"
     ]
    }
   ],
   "source": [
    "my_model.initialise()\n",
    "\n",
    "my_model.run()"
   ]
  }
 ],
 "metadata": {
  "kernelspec": {
   "display_name": "Python 3.9.12 ('base')",
   "language": "python",
   "name": "python3"
  },
  "language_info": {
   "codemirror_mode": {
    "name": "ipython",
    "version": 3
   },
   "file_extension": ".py",
   "mimetype": "text/x-python",
   "name": "python",
   "nbconvert_exporter": "python",
   "pygments_lexer": "ipython3",
   "version": "3.9.12"
  },
  "orig_nbformat": 4,
  "vscode": {
   "interpreter": {
    "hash": "d4d1e4263499bec80672ea0156c357c1ee493ec2b1c70f0acce89fc37c4a6abe"
   }
  }
 },
 "nbformat": 4,
 "nbformat_minor": 2
}
