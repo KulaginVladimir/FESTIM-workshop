{
 "cells": [
  {
   "attachments": {},
   "cell_type": "markdown",
   "metadata": {},
   "source": [
    "# Simple simulation\n",
    "\n",
    "In this task, we'll go through the basics of FESTIM and run a simple simulation on a 1D domain.\n",
    "\n",
    "The very first step is to import the `fenics` package:"
   ]
  },
  {
   "cell_type": "code",
   "execution_count": 1,
   "metadata": {},
   "outputs": [],
   "source": [
    "import festim as F"
   ]
  },
  {
   "attachments": {},
   "cell_type": "markdown",
   "metadata": {},
   "source": [
    "Every FESTIM model is represented by a `Simulation` object. Here, we give it the name `my_model`"
   ]
  },
  {
   "cell_type": "code",
   "execution_count": 2,
   "metadata": {},
   "outputs": [],
   "source": [
    "my_model = F.Simulation()"
   ]
  },
  {
   "attachments": {},
   "cell_type": "markdown",
   "metadata": {},
   "source": [
    "Several \"ingredients\" are now required to run a FESTIM simulation:\n",
    "- a mesh\n",
    "- a temperature\n",
    "- a set of materials\n",
    "- optionally: trapping properties\n",
    "- boundary conditions\n",
    "- optionally: sources of H\n",
    "- simulation settings\n",
    "- a stepsize for transient problems"
   ]
  },
  {
   "attachments": {},
   "cell_type": "markdown",
   "metadata": {},
   "source": [
    "## 1. Mesh\n",
    "\n",
    "FESTIM simulations need a mesh. FESTIM provides support for simple 1D meshes. More complicated meshes can be imported from external software (see [Task 7](https://github.com/RemDelaporteMathurin/FESTIM-workshop/blob/main/tasks/task7.ipynb)).\n",
    "\n",
    "The most straightforward mesh is `MeshFromVertices`, which takes a `vertices` argument.\n",
    "Here's a simple mesh with 4 cells:"
   ]
  },
  {
   "cell_type": "code",
   "execution_count": 3,
   "metadata": {},
   "outputs": [
    {
     "data": {
      "text/plain": [
       "<festim.meshing.mesh_from_vertices.MeshFromVertices at 0x7fe74f9a08e0>"
      ]
     },
     "execution_count": 3,
     "metadata": {},
     "output_type": "execute_result"
    }
   ],
   "source": [
    "F.MeshFromVertices(vertices=[0, 1, 2, 3, 4, 5, 6, 7, 7.5])"
   ]
  },
  {
   "attachments": {},
   "cell_type": "markdown",
   "metadata": {},
   "source": [
    "Numpy can be used to generate heavier meshes. Here we create a mesh containing 1000 cells over a [0, 1e-6] domain (1 $\\mu m$).\n",
    "\n",
    "This mesh is assigned to  the simulation by setting the `.mesh` attribute of `my_model`."
   ]
  },
  {
   "cell_type": "code",
   "execution_count": 4,
   "metadata": {},
   "outputs": [],
   "source": [
    "import numpy as np\n",
    "\n",
    "my_model.mesh = F.MeshFromVertices(\n",
    "    vertices=np.linspace(0, 1e-6, num=1001)\n",
    ")"
   ]
  },
  {
   "attachments": {},
   "cell_type": "markdown",
   "metadata": {},
   "source": [
    "## 2. Materials\n",
    "\n",
    "`Material` objects hold the materials properties like diffusivity and solubility.\n",
    "\n",
    "Here we only need the diffusivity defined as an Arrhenius law: $$D = D_0 \\exp{(-E_D/k_B T)}$$\n",
    "where $k_B$ is the Boltzmann constant in eV/K and $T$ is the temperature in K. From this, the pre-exponential coefficient, $D_0$ in m<sup>2</sup>/s, and the diffusion actiavtion energy, $E_D$ in eV are needed.\n",
    "\n",
    ">Note:\n",
    ">\n",
    "> All units in FESTIM as SI (apart for activation energies that are in eV)\n",
    "> To check what unit is expected by FESTIM, check the documentation. [Here](https://festim.readthedocs.io/en/latest/api/festim.materials.html#festim.materials.material.Material) is the reference for the `Material` class"
   ]
  },
  {
   "cell_type": "code",
   "execution_count": 5,
   "metadata": {},
   "outputs": [],
   "source": [
    "my_model.materials = F.Material(id=1, D_0=1.9e-7, E_D=0.2)"
   ]
  },
  {
   "attachments": {},
   "cell_type": "markdown",
   "metadata": {},
   "source": [
    "## 3. Temperature\n",
    "\n",
    "Temperature is a very important parameter in hydrogen transport.\n",
    "It has to be defined as a `Temperature` object.\n",
    "It takes a `value` argument which can be a simple float (like here `500`) or a `sympy` expression like `500 + 3*sympy.exp(-F.x)`.\n",
    "\n",
    "The temperature is in K.\n",
    "\n",
    ">Note:\n",
    ">\n",
    ">For heat transfer simulations, the `HeatTransferProblem` can be used instead. See [Heat transfer simulation](https://github.com/RemDelaporteMathurin/FESTIM-workshop/blob/main/tasks/task6.ipynb)"
   ]
  },
  {
   "cell_type": "code",
   "execution_count": 6,
   "metadata": {},
   "outputs": [],
   "source": [
    "my_model.T = F.Temperature(value=500)"
   ]
  },
  {
   "attachments": {},
   "cell_type": "markdown",
   "metadata": {},
   "source": [
    "## 4. Boundary conditions & source\n",
    "\n",
    "Our hydrogen transport problem now needs boundary conditions and a volumetric source term.\n",
    "\n",
    "FESTIM provides plenty of boundary conditions (see [Dirichlet BCs](https://festim.readthedocs.io/en/latest/api/festim.boundary_conditions.dirichlets.html#festim-boundary-conditions-dirichlets-package) and [Fluxes](https://festim.readthedocs.io/en/latest/api/festim.boundary_conditions.fluxes.html)).\n",
    "\n",
    "Here we'll simply set the mobile concentration at ``1e15`` on the left and right boundaries (resp. `1` and `2`).\n",
    "\n",
    "- ``field`` represents the variable on which the boundary condition is imposed. Here, `0` stands for the mobile hydrogen concentration.\n",
    "\n",
    "- ``value`` is the value of the mobile concentration. Again, it could be a function of time and space with ``1e15*F.x + F.t``\n",
    "\n",
    "- ``surfaces`` is a list of surfaces ids (in 1D, `1` is left and `2` is right)\n",
    "\n",
    "A volumetric source of mobile H (`field=0`) is set in the whole volume (`volume=1`) and its value is `1e20` H/m<sup>3</sup>/s.\n",
    "Additional sources can be applied."
   ]
  },
  {
   "cell_type": "code",
   "execution_count": 7,
   "metadata": {},
   "outputs": [],
   "source": [
    "my_model.boundary_conditions = [\n",
    "    F.DirichletBC(\n",
    "        surfaces=[1,2],\n",
    "        value=1e15,  # H/m3/s\n",
    "        field=0\n",
    "        )\n",
    "]\n",
    "\n",
    "\n",
    "my_model.sources = [F.Source(value=1e20, volume=1, field=0)]"
   ]
  },
  {
   "attachments": {},
   "cell_type": "markdown",
   "metadata": {},
   "source": [
    "## 5. Settings\n",
    "\n",
    "With `Settings` we set the main solver parameters.\n",
    "- `absolute_tolerance`: the absolute tolerance of the Newton solver. For concentrations in $\\mathrm{m}^{-3}$, `1e10` is usually fine.\n",
    "- `relative_tolerance`: the relative tolerance of the Newton solver. Values around `1e-10` are good practices.\n",
    "- `final_time`: since we want to solve a transient problem, we need to set the final time. Here, 100 s.\n",
    "\n",
    "\n",
    ">💡Tip:\n",
    ">\n",
    "> Tuning absolute and relative tolerances can be a fine art. If tolerances the solver may not converge.\n",
    ">\n",
    "> If they are too high, the solver may converge to quickly (in zero iterations), resulting in no evolution of the concentration fields.\n",
    ">\n",
    "> To have more information on the solving steps, set the log level of the solver to 20 with ``my_model.log_level = 20`` (default is 40)"
   ]
  },
  {
   "cell_type": "code",
   "execution_count": 8,
   "metadata": {},
   "outputs": [],
   "source": [
    "my_model.settings = F.Settings(\n",
    "    absolute_tolerance=1e10,\n",
    "    relative_tolerance=1e-10,\n",
    "    final_time=100  # s\n",
    "    )"
   ]
  },
  {
   "attachments": {},
   "cell_type": "markdown",
   "metadata": {},
   "source": [
    "## 6. Stepsize\n",
    "\n",
    "Since we are solving a transient problem, we need to set a ``Stepsize``.\n",
    "Here, the value of the stepsize is fixed at 0.1.\n",
    "\n",
    "> Note:\n",
    ">\n",
    "> Transient simulations can be accelerated with adaptive stepsize. See [Task 2](https://github.com/RemDelaporteMathurin/FESTIM-workshop/blob/main/tasks/task2.ipynb)"
   ]
  },
  {
   "cell_type": "code",
   "execution_count": 9,
   "metadata": {},
   "outputs": [],
   "source": [
    "my_model.dt = F.Stepsize(0.1)  # s"
   ]
  },
  {
   "attachments": {},
   "cell_type": "markdown",
   "metadata": {},
   "source": [
    "## 7. Exports\n",
    "\n",
    "Finally, we want to be able to visualise the concentration field.\n",
    "To do so, we add an `XDMFExport` object which will export the concentration field at each timestep to an XDMF file.\n",
    "This XDMF file can then be read in [Paraview](https://www.paraview.org/).\n",
    "\n",
    "- `field`: the field we want to export. Here, `\"solute\"` stands for the mobile concentration of hydrogen. It could be ``\"retention\"``, ``\"1\"`` (trap 1), ``\"T\"`` (temperature)\n",
    "\n",
    "- `filename`: the path to the exported file\n",
    "\n",
    "> Note:\n",
    ">\n",
    "> For 1D fields, the `checkpoint` attribute needs to be set to ``False`` to be visualised in Paraview. Refer to [this issue](https://github.com/RemDelaporteMathurin/FESTIM/issues/134). "
   ]
  },
  {
   "cell_type": "code",
   "execution_count": 10,
   "metadata": {},
   "outputs": [],
   "source": [
    "my_model.exports = [\n",
    "    F.XDMFExport(\n",
    "        field=\"solute\",\n",
    "        filename=\"hydrogen_concentration.xdmf\",\n",
    "        checkpoint=False  # needed in 1D\n",
    "        ),\n",
    "    F.TXTExport(field=\"solute\", times=[100], label=\"mobile_concentration\", folder=\"results\")\n",
    "]"
   ]
  },
  {
   "attachments": {},
   "cell_type": "markdown",
   "metadata": {},
   "source": [
    "## 8. Run\n",
    "\n",
    "Finally, we initialise the model and run it!"
   ]
  },
  {
   "cell_type": "code",
   "execution_count": 11,
   "metadata": {},
   "outputs": [
    {
     "name": "stdout",
     "output_type": "stream",
     "text": [
      "Defining initial values\n",
      "Defining variational problem\n",
      "Defining source terms\n",
      "Defining boundary conditions\n",
      "Time stepping...\n",
      "1.2 %        1.2e+00 s    Ellapsed time so far: 0.2 s\r"
     ]
    },
    {
     "name": "stdout",
     "output_type": "stream",
     "text": [
      "100.0 %        1.0e+02 s    Ellapsed time so far: 11.2 s\n"
     ]
    }
   ],
   "source": [
    "my_model.initialise()\n",
    "\n",
    "my_model.run()"
   ]
  },
  {
   "attachments": {},
   "cell_type": "markdown",
   "metadata": {},
   "source": [
    "Three files should have been created: hydrogen_concentration.xdmf, hydrogen_concentration.h5, and results/mobile_concentration_100.0s.\n",
    "\n",
    "The .xdmf file is the one that can be opened in Paraview, and it points to the .h5 file.\n",
    "\n",
    "The profile exported as a text file can now be plotted with matplotlib:"
   ]
  },
  {
   "cell_type": "code",
   "execution_count": 12,
   "metadata": {},
   "outputs": [
    {
     "data": {
      "image/png": "[encoded data removed]",
      "text/plain": [
       "<Figure size 640x480 with 1 Axes>"
      ]
     },
     "metadata": {},
     "output_type": "display_data"
    }
   ],
   "source": [
    "import matplotlib.pyplot as plt\n",
    "import numpy as np\n",
    "\n",
    "data = np.genfromtxt(\"results/mobile_concentration_100.0s.txt\")\n",
    "\n",
    "plt.plot(data[:,0], data[:,1])\n",
    "plt.show()"
   ]
  },
  {
   "attachments": {},
   "cell_type": "markdown",
   "metadata": {},
   "source": [
    "To solve the steady-state problem, simply set:"
   ]
  },
  {
   "cell_type": "code",
   "execution_count": 13,
   "metadata": {},
   "outputs": [],
   "source": [
    "my_model.settings.transient = False\n",
    "my_model.dt = None\n",
    "\n",
    "my_model.exports = []  # txt export don't work in steady state"
   ]
  },
  {
   "cell_type": "code",
   "execution_count": 14,
   "metadata": {},
   "outputs": [
    {
     "name": "stdout",
     "output_type": "stream",
     "text": [
      "Defining initial values\n",
      "Defining variational problem\n",
      "Defining source terms\n",
      "Defining boundary conditions\n",
      "Solving steady state problem...\n",
      "Solved problem in 0.00 s\n"
     ]
    }
   ],
   "source": [
    "my_model.initialise()\n",
    "\n",
    "my_model.run()"
   ]
  }
 ],
 "metadata": {
  "kernelspec": {
   "display_name": "Python 3.9.12 ('base')",
   "language": "python",
   "name": "python3"
  },
  "language_info": {
   "codemirror_mode": {
    "name": "ipython",
    "version": 3
   },
   "file_extension": ".py",
   "mimetype": "text/x-python",
   "name": "python",
   "nbconvert_exporter": "python",
   "pygments_lexer": "ipython3",
   "version": "3.10.11"
  },
  "orig_nbformat": 4,
  "vscode": {
   "interpreter": {
    "hash": "d4d1e4263499bec80672ea0156c357c1ee493ec2b1c70f0acce89fc37c4a6abe"
   }
  }
 },
 "nbformat": 4,
 "nbformat_minor": 2
}
