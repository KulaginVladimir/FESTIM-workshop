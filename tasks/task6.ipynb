{
 "cells": [
  {
   "attachments": {},
   "cell_type": "markdown",
   "metadata": {},
   "source": [
    "# Advection-diffusion problem\n",
    "\n",
    "In this task, we'll simulate advection-diffusion in a fluid domain.\n",
    "\n",
    "Natively, advection is not taken into account in FESTIM. The idea is therefore to modify the governing equations by adding an advection term."
   ]
  },
  {
   "cell_type": "code",
   "execution_count": null,
   "metadata": {},
   "outputs": [],
   "source": [
    "import festim as F\n",
    "\n",
    "my_model = F.Simulation()"
   ]
  },
  {
   "attachments": {},
   "cell_type": "markdown",
   "metadata": {},
   "source": [
    "Create a mesh with FEniCS and mark the subdomains.\n",
    "\n",
    "For more information on FEniCS meshes, please visit [the mesh demo](https://fenicsproject.org/olddocs/dolfin/latest/python/demos/built-in-meshes/demo_built-in-meshes.py.html) and the [subdomains demo](https://fenicsproject.org/pub/tutorial/sphinx1/._ftut1005.html)."
   ]
  },
  {
   "cell_type": "code",
   "execution_count": null,
   "metadata": {},
   "outputs": [],
   "source": [
    "from fenics import UnitSquareMesh, CompiledSubDomain, MeshFunction, plot\n",
    "\n",
    "# creating a mesh with FEniCS\n",
    "nx = ny = 20\n",
    "mesh_fenics = UnitSquareMesh(nx, ny)\n",
    "\n",
    "\n",
    "# marking physical groups (volumes and surfaces)\n",
    "volume_markers = MeshFunction(\"size_t\", mesh_fenics, mesh_fenics.topology().dim())\n",
    "volume_markers.set_all(1)\n",
    "\n",
    "tol = 1e-14\n",
    "\n",
    "left_surface = CompiledSubDomain('on_boundary && near(x[0], 0, tol)',\n",
    "                                tol=tol)\n",
    "right_surface = CompiledSubDomain('on_boundary && near(x[0], 1, tol)',\n",
    "                                     tol=tol)\n",
    "bottom_surface = CompiledSubDomain('on_boundary && near(x[1], 0, tol)',\n",
    "                                     tol=tol)\n",
    "top_surface = CompiledSubDomain('on_boundary && near(x[1], 1, tol)',\n",
    "                                     tol=tol)\n",
    "\n",
    "surface_markers = MeshFunction(\"size_t\", mesh_fenics, mesh_fenics.topology().dim() - 1)\n",
    "surface_markers.set_all(0)\n",
    "\n",
    "left_id = 1\n",
    "top_and_bottom_id = 2\n",
    "right_id = 3\n",
    "left_surface.mark(surface_markers, left_id)\n",
    "right_surface.mark(surface_markers, right_id)\n",
    "top_surface.mark(surface_markers, top_and_bottom_id)\n",
    "bottom_surface.mark(surface_markers, top_and_bottom_id)\n",
    "\n",
    "plot(mesh_fenics)"
   ]
  },
  {
   "attachments": {},
   "cell_type": "markdown",
   "metadata": {},
   "source": [
    "The mesh can now be passed to a `festim.Mesh` instance.\n",
    "\n",
    "The volume markers and surface markers also need to be passed to the `festim.Mesh` instance."
   ]
  },
  {
   "cell_type": "code",
   "execution_count": null,
   "metadata": {},
   "outputs": [],
   "source": [
    "my_model.mesh = F.Mesh(\n",
    "    mesh=mesh_fenics,\n",
    "    volume_markers=volume_markers,\n",
    "    surface_markers=surface_markers\n",
    ")"
   ]
  },
  {
   "attachments": {},
   "cell_type": "markdown",
   "metadata": {},
   "source": [
    "Let's add the rest of the parameters.\n",
    "For this case, the concentration will be set to 1 on the left surface and to zero on the top and bottom surfaces."
   ]
  },
  {
   "cell_type": "code",
   "execution_count": null,
   "metadata": {},
   "outputs": [],
   "source": [
    "my_model.materials = F.Material(id=1, D_0=1, E_D=0)\n",
    "\n",
    "my_model.T = F.Temperature(500)\n",
    "\n",
    "my_model.boundary_conditions = [\n",
    "    F.DirichletBC(field=0, surfaces=top_and_bottom_id, value=0),\n",
    "    F.DirichletBC(field=0, surfaces=left_id, value=1)\n",
    "]\n",
    "\n",
    "my_model.settings = F.Settings(\n",
    "    absolute_tolerance=1e-10,\n",
    "    relative_tolerance=1e-10,\n",
    "    transient=False\n",
    "    )"
   ]
  },
  {
   "attachments": {},
   "cell_type": "markdown",
   "metadata": {},
   "source": [
    "We can now run the pure diffusion simulation and visualise the hydrogen concentration field."
   ]
  },
  {
   "cell_type": "code",
   "execution_count": null,
   "metadata": {},
   "outputs": [],
   "source": [
    "my_model.initialise()\n",
    "my_model.run()\n",
    "\n",
    "\n",
    "hydrogen_concentration = my_model.h_transport_problem.mobile.solution\n",
    "\n",
    "plot(hydrogen_concentration)"
   ]
  },
  {
   "attachments": {},
   "cell_type": "markdown",
   "metadata": {},
   "source": [
    "## Adding advection\n",
    "\n",
    "Let's now add an advection term. To do so, we first need to create a velocity field.\n",
    "For simplicity sake, we will create an arbitrary field `velocity`.\n",
    "\n",
    "> \n",
    "> Note: this velocity field can be obtained from solving the Navier-Stokes equations with FEniCS or with another code (OpenFOAM).\n",
    "> "
   ]
  },
  {
   "cell_type": "code",
   "execution_count": null,
   "metadata": {},
   "outputs": [],
   "source": [
    "from fenics import interpolate, Expression, VectorFunctionSpace\n",
    "\n",
    "functionspace = VectorFunctionSpace(my_model.mesh.mesh, \"CG\", 1)\n",
    "\n",
    "velocity = Expression((\"-100*x[1]*(x[1] - 1)\", \"0\"), degree=2)\n",
    "\n",
    "velocity = interpolate(velocity, functionspace)"
   ]
  },
  {
   "attachments": {},
   "cell_type": "markdown",
   "metadata": {},
   "source": [
    "Here's what `velocity` looks like:"
   ]
  },
  {
   "cell_type": "code",
   "execution_count": null,
   "metadata": {},
   "outputs": [],
   "source": [
    "import matplotlib.pyplot as plt\n",
    "\n",
    "CS = plot(velocity)\n",
    "plt.colorbar(CS)\n",
    "plt.show()"
   ]
  },
  {
   "attachments": {},
   "cell_type": "markdown",
   "metadata": {},
   "source": [
    "Now that we created a FEniCS function representing the velocity, let's add an advection term to the governing equation.\n",
    "\n",
    "The governing equation for steady state advection-diffusion is:\n",
    "\n",
    "$$\\nabla \\cdot (D \\nabla c) - v \\cdot \\nabla c = 0$$\n",
    "\n",
    "where $D$ is the diffusion coefficient, $c$ is the hydrogen concentration and $v$ is the velocity.\n",
    "\n",
    "To modify the governing equations, one needs to modify the formulation of the H transport problem.\n",
    "It can be accessed in `my_model.h_transport_problem.F`.\n",
    "\n",
    "See [this FEniCS tutorial](https://fenicsproject.org/pub/tutorial/html/._ftut1010.html) for more information on finite element formulations."
   ]
  },
  {
   "cell_type": "code",
   "execution_count": null,
   "metadata": {},
   "outputs": [],
   "source": [
    "print(my_model.h_transport_problem.F)"
   ]
  },
  {
   "cell_type": "code",
   "execution_count": null,
   "metadata": {},
   "outputs": [],
   "source": [
    "from fenics import inner, dot, grad\n",
    "\n",
    "my_model.initialise() # reinitialisation is needed\n",
    "\n",
    "hydrogen_concentration = my_model.h_transport_problem.mobile.solution\n",
    "test_function_solute = my_model.h_transport_problem.mobile.test_function\n",
    "\n",
    "advection_term = inner(dot(grad(hydrogen_concentration), velocity), test_function_solute) * my_model.mesh.dx\n",
    "\n",
    "my_model.h_transport_problem.F += advection_term\n",
    "print(my_model.h_transport_problem.F)"
   ]
  },
  {
   "attachments": {},
   "cell_type": "markdown",
   "metadata": {},
   "source": [
    "Now that the governing equation has been modified, let's run the simulation again and check the new concentration field."
   ]
  },
  {
   "cell_type": "code",
   "execution_count": null,
   "metadata": {},
   "outputs": [],
   "source": [
    "my_model.run()\n",
    "plot(hydrogen_concentration)\n",
    "plot(velocity)\n",
    "plt.show()"
   ]
  },
  {
   "attachments": {},
   "cell_type": "markdown",
   "metadata": {},
   "source": [
    "The concentration field is greatly affected as particles are now pushed towards the right hand side of the domain.\n",
    "\n",
    "# Task:\n",
    "\n",
    "Vary the velocity field to investigate its influence on the mobile concentration"
   ]
  }
 ],
 "metadata": {
  "kernelspec": {
   "display_name": "Python 3.9.12 ('base')",
   "language": "python",
   "name": "python3"
  },
  "language_info": {
   "codemirror_mode": {
    "name": "ipython",
    "version": 3
   },
   "file_extension": ".py",
   "mimetype": "text/x-python",
   "name": "python",
   "nbconvert_exporter": "python",
   "pygments_lexer": "ipython3",
   "version": "3.10.11"
  },
  "orig_nbformat": 4,
  "vscode": {
   "interpreter": {
    "hash": "d4d1e4263499bec80672ea0156c357c1ee493ec2b1c70f0acce89fc37c4a6abe"
   }
  }
 },
 "nbformat": 4,
 "nbformat_minor": 2
}
