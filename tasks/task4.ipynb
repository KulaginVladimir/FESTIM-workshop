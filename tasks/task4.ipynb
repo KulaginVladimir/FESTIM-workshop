{
 "cells": [
  {
   "cell_type": "markdown",
   "metadata": {},
   "source": [
    "# Visualisation and post-processing\n",
    "\n",
    "In this task, we'll learn how to visualise FESTIM results.\n",
    "\n",
    "Let's create a 1D simulation."
   ]
  },
  {
   "cell_type": "code",
   "execution_count": 1,
   "metadata": {},
   "outputs": [],
   "source": [
    "import festim as F\n",
    "import numpy as np\n",
    "\n",
    "my_model = F.Simulation()\n",
    "\n",
    "my_model.mesh = F.MeshFromVertices(\n",
    "    vertices=np.linspace(0, 1, num=1000)\n",
    ")\n",
    "\n",
    "my_material = F.Material(id=1, D_0=1, E_D=0.2)\n",
    "my_model.materials = my_material\n",
    "\n",
    "my_model.traps = F.Trap(k_0=1, E_k=0, p_0=0.1, E_p=0, materials=my_material, density=0.5)\n",
    "\n",
    "\n",
    "# temperature varying in space and time\n",
    "my_model.T = F.Temperature(500 + F.x + F.t)\n",
    "\n",
    "\n",
    "my_model.boundary_conditions = [\n",
    "    F.DirichletBC(\n",
    "        surfaces=[1, 2],\n",
    "        value=1 + F.x,  # 1 in x=0, 2 in x=1\n",
    "        field=0\n",
    "        )\n",
    "]\n",
    "\n",
    "\n",
    "my_model.settings = F.Settings(\n",
    "    absolute_tolerance=1e-10,\n",
    "    relative_tolerance=1e-10,\n",
    "    final_time=100\n",
    "    )\n",
    "\n",
    "my_model.dt = F.Stepsize(0.1, stepsize_change_ratio=1.1, dt_min=1e-5)"
   ]
  },
  {
   "cell_type": "markdown",
   "metadata": {},
   "source": [
    "We now want to export the temperature, the mobile concentration field, and the total retention (mobile + trapped).\n",
    "\n",
    ">\n",
    "> Note: in 1D, to visualise the XDMF files in Paraview, the `checkpoint` argument needs to be `False` (see [#134](https://github.com/RemDelaporteMathurin/FESTIM/issues/134))\n",
    ">"
   ]
  },
  {
   "cell_type": "code",
   "execution_count": 2,
   "metadata": {},
   "outputs": [],
   "source": [
    "export_folder = \"task4\"\n",
    "\n",
    "xdmf_exports = [\n",
    "    F.XDMFExport(field=\"solute\", filename=export_folder + \"/hydrogen_concentration.xdmf\", checkpoint=False),\n",
    "    F.XDMFExport(field=\"retention\", filename=export_folder + \"/retention.xdmf\", checkpoint=False),\n",
    "    F.XDMFExport(field=\"T\", filename=export_folder + \"/T.xdmf\", checkpoint=False),\n",
    "]"
   ]
  },
  {
   "cell_type": "markdown",
   "metadata": {},
   "source": [
    "We would also like to visualise the total hydrogen inventory, the particle fluxes at the surfaces, and the average temperature."
   ]
  },
  {
   "cell_type": "code",
   "execution_count": 3,
   "metadata": {},
   "outputs": [],
   "source": [
    "derived_quantities = F.DerivedQuantities(\n",
    "    [\n",
    "        F.TotalVolume(field=\"retention\", volume=1),\n",
    "        F.HydrogenFlux(surface=1),\n",
    "        F.HydrogenFlux(surface=2),\n",
    "        F.AverageVolume(field=\"T\", volume=1)\n",
    "    ],\n",
    "    filename=export_folder + \"/derived_quantities.csv\"\n",
    ")\n",
    "\n",
    "my_model.exports = [derived_quantities] + xdmf_exports"
   ]
  },
  {
   "cell_type": "code",
   "execution_count": 4,
   "metadata": {},
   "outputs": [
    {
     "name": "stdout",
     "output_type": "stream",
     "text": [
      "Calling FFC just-in-time (JIT) compiler, this may take some time.\n",
      "Defining initial values\n",
      "Defining variational problem\n",
      "Defining source terms\n",
      "Defining boundary conditions\n",
      "Time stepping...\n",
      "Calling FFC just-in-time (JIT) compiler, this may take some time.\n",
      "Calling FFC just-in-time (JIT) compiler, this may take some time.\n",
      "Calling FFC just-in-time (JIT) compiler, this may take some time.\n",
      "Calling FFC just-in-time (JIT) compiler, this may take some time.\n",
      "Calling FFC just-in-time (JIT) compiler, this may take some time.\n",
      "100.0 %        1.0e+02 s    Ellapsed time so far: 3.8 s\n"
     ]
    }
   ],
   "source": [
    "my_model.initialise()\n",
    "\n",
    "my_model.run()"
   ]
  },
  {
   "cell_type": "markdown",
   "metadata": {},
   "source": [
    "Several files were created.\n",
    "\n",
    "The XDMF files can be opened in [Paraview](https://www.paraview.org/) for visualisation.\n",
    "\n",
    "The derived_quantities.csv file can be read in Excel, or programmatically in python.\n"
   ]
  },
  {
   "cell_type": "code",
   "execution_count": 5,
   "metadata": {},
   "outputs": [
    {
     "name": "stdout",
     "output_type": "stream",
     "text": [
      "('ts', 'Total_retention_volume_1', 'Flux_surface_1_solute', 'Flux_surface_2_solute', 'Average_T_volume_1')\n"
     ]
    }
   ],
   "source": [
    "# load the csv file with numpy\n",
    "data = np.genfromtxt(export_folder + \"/derived_quantities.csv\", delimiter=\",\", names=True)\n",
    "\n",
    "# print the columns names\n",
    "print(data.dtype.names)"
   ]
  },
  {
   "cell_type": "code",
   "execution_count": 6,
   "metadata": {},
   "outputs": [
    {
     "name": "stdout",
     "output_type": "stream",
     "text": [
      "[  0.1          0.21         0.331        0.4641       0.61051\n",
      "   0.771561     0.9487171    1.14358881   1.35794769   1.59374246\n",
      "   1.85311671   2.13842838   2.45227121   2.79749834   3.17724817\n",
      "   3.59497299   4.05447028   4.55991731   5.11590904   5.72749995\n",
      "   6.40024994   7.14027494   7.95430243   8.84973268   9.83470594\n",
      "  10.91817654  12.10999419  13.42099361  14.86309297  16.44940227\n",
      "  18.1943425   20.11377675  22.22515442  24.54766986  27.10243685\n",
      "  29.91268053  33.00394859  36.40434344  40.14477779  44.25925557\n",
      "  48.78518112  53.76369924  59.24006916  65.26407608  71.89048369\n",
      "  79.17953205  87.19748526  96.01723378 100.        ]\n"
     ]
    }
   ],
   "source": [
    "print(data[\"ts\"])"
   ]
  },
  {
   "cell_type": "code",
   "execution_count": 7,
   "metadata": {},
   "outputs": [
    {
     "data": {
      "text/plain": [
       "Text(0, 0.5, 'H flux')"
      ]
     },
     "execution_count": 7,
     "metadata": {},
     "output_type": "execute_result"
    },
    {
     "data": {
      "image/png": "[encoded data removed]",
      "text/plain": [
       "<Figure size 432x288 with 1 Axes>"
      ]
     },
     "metadata": {
      "needs_background": "light"
     },
     "output_type": "display_data"
    }
   ],
   "source": [
    "import matplotlib.pyplot as plt\n",
    "\n",
    "plt.plot(data[\"ts\"], data[\"Flux_surface_1_solute\"])\n",
    "plt.plot(data[\"ts\"], data[\"Flux_surface_2_solute\"])\n",
    "\n",
    "plt.xlabel(\"Time\")\n",
    "\n",
    "plt.ylabel(\"H flux\")"
   ]
  },
  {
   "cell_type": "markdown",
   "metadata": {},
   "source": [
    "Alternatively, one can use the `plot` function of FEniCS to plot fields directly."
   ]
  },
  {
   "cell_type": "code",
   "execution_count": 8,
   "metadata": {},
   "outputs": [
    {
     "data": {
      "text/plain": [
       "[<matplotlib.lines.Line2D at 0x7f3cf2317820>]"
      ]
     },
     "execution_count": 8,
     "metadata": {},
     "output_type": "execute_result"
    },
    {
     "data": {
      "image/png": "[encoded data removed]",
      "text/plain": [
       "<Figure size 432x288 with 1 Axes>"
      ]
     },
     "metadata": {
      "needs_background": "light"
     },
     "output_type": "display_data"
    }
   ],
   "source": [
    "from fenics import plot\n",
    "\n",
    "plot(my_model.T.T)"
   ]
  },
  {
   "cell_type": "code",
   "execution_count": 9,
   "metadata": {},
   "outputs": [
    {
     "name": "stdout",
     "output_type": "stream",
     "text": [
      "Calling FFC just-in-time (JIT) compiler, this may take some time.\n",
      "Calling FFC just-in-time (JIT) compiler, this may take some time.\n"
     ]
    },
    {
     "data": {
      "text/plain": [
       "[<matplotlib.lines.Line2D at 0x7f3cf2280400>]"
      ]
     },
     "execution_count": 9,
     "metadata": {},
     "output_type": "execute_result"
    },
    {
     "data": {
      "image/png": "[encoded data removed]",
      "text/plain": [
       "<Figure size 432x288 with 1 Axes>"
      ]
     },
     "metadata": {
      "needs_background": "light"
     },
     "output_type": "display_data"
    }
   ],
   "source": [
    "plot(my_model.h_transport_problem.mobile.solution)"
   ]
  }
 ],
 "metadata": {
  "kernelspec": {
   "display_name": "Python 3.9.12 ('base')",
   "language": "python",
   "name": "python3"
  },
  "language_info": {
   "codemirror_mode": {
    "name": "ipython",
    "version": 3
   },
   "file_extension": ".py",
   "mimetype": "text/x-python",
   "name": "python",
   "nbconvert_exporter": "python",
   "pygments_lexer": "ipython3",
   "version": "3.9.12"
  },
  "orig_nbformat": 4,
  "vscode": {
   "interpreter": {
    "hash": "d4d1e4263499bec80672ea0156c357c1ee493ec2b1c70f0acce89fc37c4a6abe"
   }
  }
 },
 "nbformat": 4,
 "nbformat_minor": 2
}
