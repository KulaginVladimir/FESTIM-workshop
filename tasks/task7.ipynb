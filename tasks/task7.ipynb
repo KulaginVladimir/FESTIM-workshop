{
 "cells": [
  {
   "attachments": {},
   "cell_type": "markdown",
   "metadata": {},
   "source": [
    "# Heat transfer simulations\n",
    "\n",
    "In this task, we'll learn how to run a heat transfer simulation and couple it to H transport.\n",
    "\n",
    "The governing equation for transient heat transfer is:\n",
    "\n",
    "$$\\rho \\ C_p \\frac{\\partial T}{\\partial t} = \\nabla \\cdot (\\lambda \\ \\nabla T) + \\dot{Q} $$\n",
    "\n",
    "where $\\rho$ is the density in kg/m3, $C_p$ is the heat capacity in J/kg, $\\lambda$ is the thermal conductivity in W/m/K, and $\\dot{Q}$ is the volumetric heat source in W/m3.\n",
    "\n",
    "In steady state, this becomes:\n",
    "\n",
    "$$\\nabla \\cdot (\\lambda \\ \\nabla T) + \\dot{Q} = 0$$"
   ]
  },
  {
   "attachments": {},
   "cell_type": "markdown",
   "metadata": {},
   "source": [
    "## 1D simulation\n",
    "\n",
    "We'll start with a simple 1D simulation."
   ]
  },
  {
   "cell_type": "code",
   "execution_count": null,
   "metadata": {},
   "outputs": [],
   "source": [
    "import festim as F\n",
    "import numpy as np\n",
    "\n",
    "model_1d = F.Simulation()\n",
    "\n",
    "model_1d.mesh = F.MeshFromVertices(\n",
    "    vertices=np.linspace(0, 1, num=1000)\n",
    ")\n",
    "\n",
    "\n",
    "model_1d.settings = F.Settings(\n",
    "    absolute_tolerance=1e-10,\n",
    "    relative_tolerance=1e-10,\n",
    "    transient=False\n",
    "    )"
   ]
  },
  {
   "attachments": {},
   "cell_type": "markdown",
   "metadata": {},
   "source": [
    "Since we want to run a heat transfer simulation, the thermal conductivity $\\lambda$ in W/m/K has to be specified in the material.\n",
    "\n",
    "> Note:\n",
    "> \n",
    "> Here we have to specify diffusion parameters even though we don't need it since we're focussing on heat transfer"
   ]
  },
  {
   "cell_type": "code",
   "execution_count": null,
   "metadata": {},
   "outputs": [],
   "source": [
    "mat = F.Material(id=1, D_0=1, E_D=0.2, thermal_cond=2)\n",
    "model_1d.materials = mat"
   ]
  },
  {
   "attachments": {},
   "cell_type": "markdown",
   "metadata": {},
   "source": [
    "To use the temperature from a Heat Transfer simulation instead of a prescribed temperature, we are using the `festim.HeatTransferProblem` class.\n",
    "\n",
    "Here we want to run a steady state heat transfer simulation (_ie_ `transient=False`).\n",
    "\n",
    "> Note\n",
    "> \n",
    "> If we wanted to run a transient heat transfer simulation, then we would have to provide $C_p$ and $\\rho$ in the material definition\n",
    "\n",
    "The boundary conditions of our heat transfer problem are:\n",
    "\n",
    "- $ T = 300 \\ \\mathrm{K}$    on the left surface\n",
    "\n",
    "- $-\\lambda \\nabla T \\cdot n = h (T - T_\\mathrm{ext})$ on the right surface with $h=1$ W/m2/K and $T_\\mathrm{ext} = 650  \\ \\mathrm{K}$\n",
    "\n",
    "The boundary conditions for the heat transfer problem are given by specifying `field=\"T\"` (instead of `field=0` for mobile hydrogen)."
   ]
  },
  {
   "cell_type": "code",
   "execution_count": null,
   "metadata": {},
   "outputs": [],
   "source": [
    "model_1d.T = F.HeatTransferProblem(transient=False)\n",
    "\n",
    "\n",
    "model_1d.boundary_conditions = [\n",
    "    F.DirichletBC(value=300, field=\"T\", surfaces=1),\n",
    "    F.ConvectiveFlux(h_coeff=1, T_ext=650, surfaces=2)\n",
    "]\n"
   ]
  },
  {
   "attachments": {},
   "cell_type": "markdown",
   "metadata": {},
   "source": [
    "We will also set a volumetric heat source $\\dot{Q} = 1000 $ W/m3. Similarily, we simply specify `field=\"T\"`."
   ]
  },
  {
   "cell_type": "code",
   "execution_count": null,
   "metadata": {},
   "outputs": [],
   "source": [
    "model_1d.sources = [F.Source(value=1000, volume=1, field=\"T\")]"
   ]
  },
  {
   "attachments": {},
   "cell_type": "markdown",
   "metadata": {},
   "source": [
    "Let's run the simulation and plot the temperature profile."
   ]
  },
  {
   "cell_type": "code",
   "execution_count": null,
   "metadata": {},
   "outputs": [],
   "source": [
    "model_1d.initialise()\n",
    "model_1d.run()\n",
    "\n",
    "from fenics import plot\n",
    "import matplotlib.pyplot as plt\n",
    "\n",
    "plot(model_1d.T.T)\n",
    "plt.ylabel(\"Temperature (K)\")\n",
    "plt.xlabel(\"Distance (m)\")\n",
    "plt.show()"
   ]
  },
  {
   "attachments": {},
   "cell_type": "markdown",
   "metadata": {},
   "source": [
    "## 2D simulation\n",
    "\n",
    "Let's move on to a more complex model in 2D.\n",
    "\n",
    "It is possible to set a temperature-dependent thermal conductivity by creating a function and passing it to the `thermal_cond` argument.\n",
    "\n",
    "Here, $\\lambda = 3 + 0.1\\ T$"
   ]
  },
  {
   "cell_type": "code",
   "execution_count": null,
   "metadata": {},
   "outputs": [],
   "source": [
    "import festim as F\n",
    "\n",
    "model_2d = F.Simulation()\n",
    "\n",
    "def thermal_cond_function(T):\n",
    "    return 3 + 0.1*T\n",
    "\n",
    "mat = F.Material(\n",
    "    id=1,\n",
    "    D_0=4.1e-7,\n",
    "    E_D=0.39,\n",
    "    thermal_cond=thermal_cond_function\n",
    "    )\n",
    "model_2d.materials = F.Materials([mat])"
   ]
  },
  {
   "attachments": {},
   "cell_type": "markdown",
   "metadata": {},
   "source": [
    "We create a simple mesh with FEniCS and mark its subdomains (surfaces and volume).\n",
    "\n",
    "For more information on FEniCS meshes, please visit [the mesh demo](https://fenicsproject.org/olddocs/dolfin/latest/python/demos/built-in-meshes/demo_built-in-meshes.py.html) and the [subdomains demo](https://fenicsproject.org/pub/tutorial/sphinx1/._ftut1005.html)."
   ]
  },
  {
   "cell_type": "code",
   "execution_count": null,
   "metadata": {},
   "outputs": [],
   "source": [
    "from fenics import UnitSquareMesh, CompiledSubDomain, MeshFunction, plot\n",
    "\n",
    "# creating a mesh with FEniCS\n",
    "nx = ny = 20\n",
    "mesh_fenics = UnitSquareMesh(nx, ny)\n",
    "\n",
    "# marking physical groups (volumes and surfaces)\n",
    "volume_markers = MeshFunction(\n",
    "    \"size_t\", mesh_fenics, mesh_fenics.topology().dim())\n",
    "volume_markers.set_all(1)\n",
    "\n",
    "left_surface = CompiledSubDomain(\n",
    "    'on_boundary && near(x[0], 0, tol)', tol=1e-14)\n",
    "right_surface = CompiledSubDomain(\n",
    "    'on_boundary && near(x[0], 1, tol)', tol=1e-14)\n",
    "bottom_surface = CompiledSubDomain(\n",
    "    'on_boundary && near(x[1], 0, tol)', tol=1e-14)\n",
    "top_surface = CompiledSubDomain(\n",
    "    'on_boundary && near(x[1], 1, tol)', tol=1e-14)\n",
    "\n",
    "surface_markers = MeshFunction(\n",
    "    \"size_t\", mesh_fenics, mesh_fenics.topology().dim() - 1)\n",
    "surface_markers.set_all(0)\n",
    "\n",
    "left_id = 1\n",
    "top_and_bottom_id = 2\n",
    "right_id = 3\n",
    "left_surface.mark(surface_markers, left_id)\n",
    "right_surface.mark(surface_markers, right_id)\n",
    "top_surface.mark(surface_markers, top_and_bottom_id)\n",
    "bottom_surface.mark(surface_markers, top_and_bottom_id)\n",
    "\n",
    "plot(mesh_fenics)\n",
    "\n",
    "# creating mesh with festim\n",
    "model_2d.mesh = F.Mesh(\n",
    "    mesh=mesh_fenics,\n",
    "    volume_markers=volume_markers,\n",
    "    surface_markers=surface_markers\n",
    ")\n"
   ]
  },
  {
   "attachments": {},
   "cell_type": "markdown",
   "metadata": {},
   "source": [
    "Let's add a trap to the H transport model."
   ]
  },
  {
   "cell_type": "code",
   "execution_count": null,
   "metadata": {},
   "outputs": [],
   "source": [
    "trap = F.Trap(\n",
    "    k_0=3.8e-17,\n",
    "    E_k=0.39,\n",
    "    p_0=8.4e12,\n",
    "    E_p=0.9,\n",
    "    density=1e25,\n",
    "    materials=mat\n",
    "    )\n",
    "model_2d.traps = F.Traps([trap])"
   ]
  },
  {
   "attachments": {},
   "cell_type": "markdown",
   "metadata": {},
   "source": [
    "For the heat transfer model's source and boundary conditions, we'll make use of sympy to create spatially dependent values. Because why not."
   ]
  },
  {
   "cell_type": "code",
   "execution_count": null,
   "metadata": {},
   "outputs": [],
   "source": [
    "import sympy as sp\n",
    "\n",
    "model_2d.T = F.HeatTransferProblem(transient=False)\n",
    "\n",
    "model_2d.sources = [\n",
    "    F.Source(\n",
    "        value=1 + 0.1*F.x,\n",
    "        volume=1,\n",
    "        field=\"T\"\n",
    "    )]\n",
    "\n",
    "heat_transfer_bcs = [\n",
    "    F.DirichletBC(\n",
    "        surfaces=1,\n",
    "        value=350 + 20*sp.cos(F.x)*sp.sin(F.y),\n",
    "        field=\"T\"\n",
    "    ),\n",
    "    F.ConvectiveFlux(\n",
    "        surfaces=2,\n",
    "        h_coeff=100*F.x,\n",
    "        T_ext=300 + 3*F.y\n",
    "    ),\n",
    "    F.FluxBC(\n",
    "        surfaces=3,\n",
    "        value=10 + 3*sp.cos(F.x) + sp.sin(F.y),\n",
    "        field=\"T\"\n",
    "    )\n",
    "]"
   ]
  },
  {
   "attachments": {},
   "cell_type": "markdown",
   "metadata": {},
   "source": [
    "We do the same for the H transport boundary condition, and add everything to `model_2d.boundary_conditions`"
   ]
  },
  {
   "cell_type": "code",
   "execution_count": null,
   "metadata": {},
   "outputs": [],
   "source": [
    "tritium_transport_bcs = [\n",
    "    F.DirichletBC(\n",
    "        surfaces=1,\n",
    "        value=1e19*(1 + sp.cos(F.y)),\n",
    "        field=0\n",
    "    ),\n",
    "\n",
    "]\n",
    "\n",
    "model_2d.boundary_conditions = heat_transfer_bcs + tritium_transport_bcs"
   ]
  },
  {
   "attachments": {},
   "cell_type": "markdown",
   "metadata": {},
   "source": [
    "Finally, let's export our 2D fields to XDMF."
   ]
  },
  {
   "cell_type": "code",
   "execution_count": null,
   "metadata": {},
   "outputs": [],
   "source": [
    "export_folder = \"solution_coupled_ht\"\n",
    "model_2d.exports = F.Exports([\n",
    "    F.XDMFExport(\"solute\", folder=export_folder),\n",
    "    F.XDMFExport(\"retention\", folder=export_folder),\n",
    "    F.XDMFExport(\"T\", folder=export_folder)\n",
    "    ])"
   ]
  },
  {
   "attachments": {},
   "cell_type": "markdown",
   "metadata": {},
   "source": [
    "Final settings, and we run the simulation:"
   ]
  },
  {
   "cell_type": "code",
   "execution_count": null,
   "metadata": {},
   "outputs": [],
   "source": [
    "model_2d.settings = F.Settings(\n",
    "    transient=False,\n",
    "    absolute_tolerance=1e-09,\n",
    "    relative_tolerance=1e-09,\n",
    ")\n",
    "\n",
    "model_2d.initialise()\n",
    "model_2d.run()"
   ]
  },
  {
   "attachments": {},
   "cell_type": "markdown",
   "metadata": {},
   "source": [
    "The XDMF files can be read back using the `load_xdmf` function below.\n",
    "\n",
    "If the fields are 1D or 2D, they can be plotted with matplotlib using `fenics.plot()`.\n",
    "This is useful to produce high quality plots for publication."
   ]
  },
  {
   "cell_type": "code",
   "execution_count": null,
   "metadata": {},
   "outputs": [],
   "source": [
    "from fenics import XDMFFile, FunctionSpace, Function, plot\n",
    "\n",
    "\n",
    "def load_xdmf(mesh, filename, field, element=\"CG\", counter=-1):\n",
    "    \"\"\"Loads a XDMF file and store its content to a fenics.Function\n",
    "\n",
    "    Args:\n",
    "        mesh (fenics.mesh): the mesh of the function\n",
    "        filename (str): the XDMF filename\n",
    "        field (str): the name of the field in the XDMF file\n",
    "        element (str, optional): Finite element of the function.\n",
    "            Defaults to \"CG\".\n",
    "        counter (int, optional): timestep in the file, -1 is the\n",
    "            last timestep. Defaults to -1.\n",
    "\n",
    "    Returns:\n",
    "        fenics.Function: the content of the XDMF file as a Function\n",
    "    \"\"\"\n",
    "\n",
    "    V = FunctionSpace(mesh, element, 1)\n",
    "    u = Function(V)\n",
    "\n",
    "    XDMFFile(filename).read_checkpoint(u, field, counter)\n",
    "    return u\n",
    "\n",
    "\n",
    "# get the mesh from the model\n",
    "mesh = model_2d.mesh.mesh\n",
    "\n",
    "# read the solutions\n",
    "T = load_xdmf(mesh, export_folder + \"/temperature.xdmf\", \"temperature\")\n",
    "solute = load_xdmf(mesh, export_folder + \"/mobile_concentration.xdmf\", \"mobile_concentration\", element=\"DG\")\n",
    "retention = load_xdmf(mesh, export_folder + \"/retention.xdmf\", \"retention\")\n",
    "\n",
    "# plot\n",
    "plt.figure(figsize=(15, 10))\n",
    "\n",
    "# plot temperature\n",
    "plt.subplot(1, 2, 1)\n",
    "CF = plot(T, cmap=\"inferno\", levels=100)\n",
    "plot(mesh, color=\"white\", alpha=0.2)  # overlay the mesh\n",
    "CS = plot(T, mode=\"contour\", colors=\"white\", levels=10)\n",
    "CL = plt.clabel(CS, inline=True, fmt='%.f')\n",
    "CB = plt.colorbar(CF, shrink=0.6, label=\"Temperature (K)\")\n",
    "\n",
    "# plot mobile concentration\n",
    "plt.subplot(2, 2, 2)\n",
    "CF = plot(solute, levels=100)\n",
    "CS = plot(solute, mode=\"contour\", colors=\"white\", levels=8)\n",
    "CB = plt.colorbar(CF, label=\"Solute concentration (m$^{-3}$)\")\n",
    "\n",
    "# plot retention\n",
    "plt.subplot(2, 2, 4)\n",
    "CF = plot(retention, levels=100)\n",
    "CS = plot(retention, mode=\"contour\", colors=\"white\", levels=8)\n",
    "CB = plt.colorbar(CF, label=\"Retention (m$^{-3}$)\")"
   ]
  },
  {
   "attachments": {},
   "cell_type": "markdown",
   "metadata": {},
   "source": [
    "Looking at the retention field, we can see that the retention is higher in cold regions (bottom and top right).\n",
    "\n",
    "Below, we show how to trace profiles by evaluating the `fenics.Function` variable `T` at different coordinates."
   ]
  },
  {
   "cell_type": "code",
   "execution_count": null,
   "metadata": {},
   "outputs": [],
   "source": [
    "import numpy as np\n",
    "\n",
    "def compute_arc_length(xs, ys):\n",
    "    \"\"\"Computes the arc length of x,y points based\n",
    "    on x and y arrays\n",
    "    \"\"\"\n",
    "    points = np.vstack((xs, ys)).T\n",
    "    distance = np.linalg.norm(points[1:] - points[:-1], axis=1)\n",
    "    arc_length = np.insert(np.cumsum(distance), 0, [0.0])\n",
    "    return arc_length\n",
    "\n",
    "# plot\n",
    "fig, axs = plt.subplots(1, 2, figsize=(13, 5))\n",
    "\n",
    "# plot the retention\n",
    "plt.sca(axs[0])\n",
    "CF = plot(T, cmap=\"inferno\", levels=100)\n",
    "plt.colorbar(CF)\n",
    "\n",
    "\n",
    "# plot profiles\n",
    "start_points = [(0, 0), (0.7, 1), (1, 0.6)]\n",
    "end_points = [(0.9, 0.10), (0.1, 0.3), (0.6, 0.8)]\n",
    "\n",
    "for start_point, end_point in zip(start_points, end_points):\n",
    "    # compute the profile\n",
    "    points_x = np.linspace(start_point[0], end_point[0], num=100)\n",
    "    points_y = np.linspace(start_point[1], end_point[1], num=100)\n",
    "    temp_profile = [T(x, y) for x, y in zip(points_x, points_y)]\n",
    "\n",
    "    # plot\n",
    "    plt.sca(axs[0])\n",
    "    l, = plt.plot(points_x, points_y)\n",
    "    plt.sca(axs[1])\n",
    "    plt.plot(compute_arc_length(points_x, points_y), temp_profile, color=l.get_color())\n",
    "\n",
    "# circular profile\n",
    "angles = np.linspace(0, 3/4*np.pi, num=100)\n",
    "radius = 0.4\n",
    "points_x = 1/2 + radius*np.cos(angles)\n",
    "points_y = 1/2 + radius*np.sin(angles)\n",
    "\n",
    "temp_profile = [T(x, y) for x, y in zip(points_x, points_y)]\n",
    "\n",
    "plt.sca(axs[0])\n",
    "plt.plot(points_x, points_y, color=\"tab:red\")\n",
    "plt.sca(axs[1])\n",
    "plt.plot(compute_arc_length(points_x, points_y), temp_profile, color=\"tab:red\")\n",
    "\n",
    "\n",
    "axs[1].set_xlabel(\"arc length\")\n",
    "axs[1].set_ylabel(\"Temperature (K)\")\n",
    "plt.show()"
   ]
  },
  {
   "attachments": {},
   "cell_type": "markdown",
   "metadata": {},
   "source": [
    "## Task\n",
    "\n",
    "Run the 1D model with new thermal conductivities: 2, 3, 4, 5, 6 W/m/K.\n",
    "\n",
    "How is the temperature field affected?\n",
    "Try and plot all temperature fields on the same plot.\n",
    "\n",
    "> 💡Tip:\n",
    "> \n",
    "> You can change the thermal conductivity of the material with:\n",
    "> ```python\n",
    "> mat.thermal_cond = 3\n",
    "> ```\n",
    "\n",
    "\n",
    "<details>\n",
    "<summary>Solution</summary>\n",
    "<br>\n",
    "\n",
    "```python\n",
    "from fenics import plot\n",
    "import matplotlib.pyplot as plt\n",
    "\n",
    "# for loop\n",
    "for thermal_cond in [2, 3, 4, 5, 6]:\n",
    "    mat.thermal_cond = thermal_cond  # modify the material's thermal conductivity\n",
    "\n",
    "    model_1d.initialise()  # reinitialise the model\n",
    "    model_1d.run()  # run the model\n",
    "\n",
    "    plot(model_1d.T.T, label=r\"$\\lambda = $\" + f\"{thermal_cond}\")  # plot the temp profile\n",
    "\n",
    "plt.ylabel(\"Temperature (K)\")\n",
    "plt.xlabel(\"Distance (m)\")\n",
    "plt.legend()\n",
    "plt.show()\n",
    "```\n",
    "\n",
    "![image](https://github.com/RemDelaporteMathurin/FESTIM-workshop/assets/40028739/6095bd1e-e364-4b65-9cc6-1220a3f091f9)\n",
    "\n",
    "As the thermal conductivity increases, it is easier to dissipate heat, therefore the temperature decreases.\n",
    "\n",
    "</details>"
   ]
  }
 ],
 "metadata": {
  "kernelspec": {
   "display_name": "Python 3.9.12 ('base')",
   "language": "python",
   "name": "python3"
  },
  "language_info": {
   "codemirror_mode": {
    "name": "ipython",
    "version": 3
   },
   "file_extension": ".py",
   "mimetype": "text/x-python",
   "name": "python",
   "nbconvert_exporter": "python",
   "pygments_lexer": "ipython3",
   "version": "3.10.11"
  },
  "orig_nbformat": 4,
  "vscode": {
   "interpreter": {
    "hash": "d4d1e4263499bec80672ea0156c357c1ee493ec2b1c70f0acce89fc37c4a6abe"
   }
  }
 },
 "nbformat": 4,
 "nbformat_minor": 2
}
