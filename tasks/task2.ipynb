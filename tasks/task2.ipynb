{
 "cells": [
  {
   "attachments": {},
   "cell_type": "markdown",
   "metadata": {},
   "source": [
    "# TDS simulation\n",
    "\n",
    "Thermo-desorption spectra (TDS) are a valuble source of experimental data for understanding the mechanics of hydorgen transport. The nature of the spectra produced by thermo-desorption experiments can give insight to the trapping properties of a given material. There are three stages in a TDS experiment; The implantation stage, the resting stage and the desoption stage. Each stage can be modelled, and the desportion flux spectra reproduced.\n",
    "\n",
    "In this task, we'll simulate a thermo-desorption experiment for a sample of tungsten."
   ]
  },
  {
   "cell_type": "code",
   "execution_count": null,
   "metadata": {},
   "outputs": [],
   "source": [
    "import festim as F\n",
    "my_model = F.Simulation()"
   ]
  },
  {
   "attachments": {},
   "cell_type": "markdown",
   "metadata": {},
   "source": [
    "Let's create a mesh from a list of vertices with more refinement close to $x=0$."
   ]
  },
  {
   "cell_type": "code",
   "execution_count": null,
   "metadata": {},
   "outputs": [],
   "source": [
    "import numpy as np\n",
    "\n",
    "vertices = np.concatenate([\n",
    "    np.linspace(0, 30e-9, num=200),\n",
    "    np.linspace(30e-9, 3e-6, num=300),\n",
    "    np.linspace(3e-6, 20e-6, num=200),\n",
    "])\n",
    "\n",
    "my_model.mesh = F.MeshFromVertices(vertices)"
   ]
  },
  {
   "attachments": {},
   "cell_type": "markdown",
   "metadata": {},
   "source": [
    "The material we want to simulate is tungsten. The only property we need is the diffusion coefficient."
   ]
  },
  {
   "cell_type": "code",
   "execution_count": null,
   "metadata": {},
   "outputs": [],
   "source": [
    "tungsten = F.Material(\n",
    "    id=1,\n",
    "    D_0=4.1e-07,  # m2/s\n",
    "    E_D=0.39,  # eV\n",
    ")\n",
    "\n",
    "my_model.materials = tungsten"
   ]
  },
  {
   "attachments": {},
   "cell_type": "markdown",
   "metadata": {},
   "source": [
    "The source term is defined as:\n",
    "\\begin{equation}\n",
    "    S_{ext} = \\varphi \\cdot f(x) \\quad \\forall \\, t<400 \\text{s}\n",
    "\\end{equation}\n",
    "\n",
    "where $\\varphi =2.5 \\times 10^{19} \\text{m}^{-2}\\text{s}^{-1}$ and $f(x)$ is a Gaussian spatial distribution with a mean value of $4.5 \\: \\text{nm}$ and a width of $2.5 \\: \\text{nm}$.\n",
    "\n",
    "FESTIM has a special class for this case: `ImplantationFlux`.\n",
    "\n",
    "The ion flux is temporally defined using a Sympy Piecewise expression, to be active for the `implantation_time`.\n",
    "\n",
    "Below, `t` is a built-in FESTIM variable that represent time in $\\text{s}$."
   ]
  },
  {
   "cell_type": "code",
   "execution_count": null,
   "metadata": {},
   "outputs": [],
   "source": [
    "import sympy as sp\n",
    "\n",
    "implantation_time = 400  # s\n",
    "\n",
    "ion_flux = sp.Piecewise((2.5e19, F.t <= implantation_time), (0, True))\n",
    "\n",
    "source_term = F.ImplantationFlux(\n",
    "    flux=ion_flux,  # H/m2/s\n",
    "    imp_depth=4.5e-9,  # m\n",
    "    width=2.5e-9,  # m\n",
    "    volume=1\n",
    ")\n",
    "\n",
    "my_model.sources = [source_term]"
   ]
  },
  {
   "attachments": {},
   "cell_type": "markdown",
   "metadata": {},
   "source": [
    "In FESTIM, each trap is defined by a `Trap` object.\n",
    "Relevent arguments for each trap include:\n",
    "\n",
    "`k_0` and `E_k` are the trapping rate pre-exponential factor in $\\text{m}^{3} \\text{s}^{-1}$ and activation energy in $\\text{eV}$, respectively.\n",
    "\n",
    "`p_0` and `E_p` are the detrapping rate pre-exponential factor in $\\text{s}^{-1}$ and activation energy in $\\text{eV}$, respectively.\n",
    "\n",
    "`materials` is a list of the materials in which the trap is located.\n",
    "Here, it's only `tungsten`.\n",
    "\n",
    "In FESTIM, traps are intrinsic by default. However, traps can also be implemented as extrinsic, as shown in the example hereafter corresponding to 2 intrinsic and 1 extrinsic trap.\n",
    "\n",
    "The time evolution of extrinsic traps density $n_i$ expressed in $\\text{m}^{-3}$ is defined as:\n",
    "\\begin{equation}\n",
    "    \\frac{dn_i}{dt} = \\varphi_0\\:\\left[\\left(1-\\frac{n_i}{n_{a_{max}}}\\right)\\:\\eta_a \\:f_a(x)+\\left(1-\\frac{n_i}{n_{b_{max}}}\\right)\\:\\eta_b \\:f_b(x)\\right]\n",
    "\\end{equation}"
   ]
  },
  {
   "cell_type": "code",
   "execution_count": null,
   "metadata": {},
   "outputs": [],
   "source": [
    "w_atom_density = 6.3e28  # atom/m3\n",
    "\n",
    "trap_1 = F.Trap(\n",
    "        k_0=4.1e-7/(1.1e-10**2*6*w_atom_density),\n",
    "        E_k=0.39,\n",
    "        p_0=1e13,\n",
    "        E_p=0.87,\n",
    "        density=1.3e-3*w_atom_density,\n",
    "        materials=tungsten\n",
    "    )\n",
    "trap_2 = F.Trap(\n",
    "        k_0=4.1e-7/(1.1e-10**2*6*w_atom_density),\n",
    "        E_k=0.39,\n",
    "        p_0=1e13,\n",
    "        E_p=1.0,\n",
    "        density=4e-4*w_atom_density,\n",
    "        materials=tungsten\n",
    "    )\n",
    "\n",
    "center = 4.5e-9\n",
    "width = 2.5e-9\n",
    "distribution = 1/(width*(2*sp.pi)**0.5) * sp.exp(-0.5*((F.x-center)/width)**2)\n",
    "trap_3 = F.ExtrinsicTrap(\n",
    "        k_0=4.1e-7/(1.1e-10**2*6*w_atom_density),\n",
    "        E_k=0.39,\n",
    "        p_0=1e13,\n",
    "        E_p=1.5,\n",
    "        phi_0=ion_flux,\n",
    "        n_amax=1e-01*w_atom_density, f_a=distribution, eta_a=6e-4,\n",
    "        n_bmax=1e-02*w_atom_density, f_b=sp.Piecewise((1e6, F.x < 1e-6), (0, True)), eta_b=2e-4,\n",
    "        materials=tungsten\n",
    "    )\n",
    "\n",
    "my_model.traps = [trap_1, trap_2, trap_3]"
   ]
  },
  {
   "attachments": {},
   "cell_type": "markdown",
   "metadata": {},
   "source": [
    "Boundary conditions (BCs) can be of several types in FESTIM, the most simple of them being the `DirichletBC` where an analytical expression is given in the argument: `value`. The argument `surfaces` contains a list of all the surfaces on which the BC is applied. If no BC is applied on a surface, it will be considered as a non flux surface (ie $\\frac{\\partial c}{\\partial\\textbf{n}} = 0$).\n",
    "\n",
    "In this case, the solute concentration is set to zero on surfaces 1 and 2 (left and right)."
   ]
  },
  {
   "cell_type": "code",
   "execution_count": null,
   "metadata": {},
   "outputs": [],
   "source": [
    "my_model.boundary_conditions = [\n",
    "    F.DirichletBC(surfaces=[1, 2], value=0, field=0)\n",
    "]"
   ]
  },
  {
   "attachments": {},
   "cell_type": "markdown",
   "metadata": {},
   "source": [
    "In this example, the temperature is constant from $t=0$ to $t=450 \\text{s}$ (implantation + resting phase), then increases from $t=450 \\text{s}$ to $t=500 \\text{s}$ in order to perform the thermo-desorption (TDS phase).\n",
    "\n",
    "\\begin{equation}\n",
    "    T(t) =\n",
    "    \\begin{cases}\n",
    "        300, & \\text{if} \\: t < 450 \\\\\n",
    "        300 + 8(t - 450), & \\text{else} \\\\\n",
    "    \\end{cases}\n",
    "\\end{equation}\n",
    "\n",
    "$T$ is expressed in $\\text{K}$."
   ]
  },
  {
   "cell_type": "code",
   "execution_count": null,
   "metadata": {},
   "outputs": [],
   "source": [
    "implantation_temp = 300  # K\n",
    "temperature_ramp = 8  # K/s\n",
    "\n",
    "start_tds = implantation_time + 50  # s\n",
    "\n",
    "my_model.T = F.Temperature(\n",
    "    value=sp.Piecewise(\n",
    "        (implantation_temp, F.t < start_tds),\n",
    "        (implantation_temp + temperature_ramp*(F.t-start_tds), True))\n",
    ")"
   ]
  },
  {
   "attachments": {},
   "cell_type": "markdown",
   "metadata": {},
   "source": [
    "The `Stepsize` object defines the simulation stepsize.\n",
    "\n",
    "The argument `initial_value` is the initial stepsize is expressed in $\\text{s}$.\n",
    "\n",
    "An adaptive stepsize algorithm has been implemented in order to save computational cost.\n",
    "`stepsize_change_ratio` defines by how much the stepsize is increased or decreased after each iteration (depending on the number of Newton iterations required to converged).\n",
    "`dt_min` is the lower limit for the stepsize below which the computation will stop.\n",
    "\n",
    "Note: the optional argument `t_stop` is the time when we want the stepsize to be below a value set in `stepsize_stop_max` in order to have temporal refinement at the end of the run. It is useful in our case since we want temporal refinement during the TDS phase."
   ]
  },
  {
   "cell_type": "code",
   "execution_count": null,
   "metadata": {},
   "outputs": [],
   "source": [
    "my_model.dt = F.Stepsize(\n",
    "    initial_value=0.5,\n",
    "    stepsize_change_ratio=1.1,\n",
    "    t_stop=implantation_time - 20,\n",
    "    stepsize_stop_max=0.5,\n",
    "    dt_min=1e-05\n",
    ")"
   ]
  },
  {
   "cell_type": "code",
   "execution_count": null,
   "metadata": {},
   "outputs": [],
   "source": [
    "my_model.settings = F.Settings(\n",
    "    absolute_tolerance=1e10,\n",
    "    relative_tolerance=1e-09,\n",
    "    final_time=500\n",
    ")"
   ]
  },
  {
   "attachments": {},
   "cell_type": "markdown",
   "metadata": {},
   "source": [
    "We want to plot the evolution of the surface fluxes as a function of time.\n",
    "\n",
    "To do so, we'll use 'derived quantities' objects.\n",
    "There is a wide range of derived quantities available in FESTIM.\n",
    "\n",
    "Here, we'll use `TotalVolume` (volume integration) and `HydrogenFlux`."
   ]
  },
  {
   "cell_type": "code",
   "execution_count": null,
   "metadata": {},
   "outputs": [],
   "source": [
    "list_of_derived_quantities = [\n",
    "        F.TotalVolume(\"solute\", volume=1),\n",
    "        F.TotalVolume(\"retention\", volume=1),\n",
    "        F.TotalVolume(\"1\", volume=1),\n",
    "        F.TotalVolume(\"2\", volume=1),\n",
    "        F.TotalVolume(\"3\", volume=1),\n",
    "        F.HydrogenFlux(surface=1),\n",
    "        F.HydrogenFlux(surface=2)\n",
    "    ]\n",
    "\n",
    "derived_quantities = F.DerivedQuantities(\n",
    "    list_of_derived_quantities,\n",
    "    # filename=\"tds/derived_quantities.csv\"  # optional set a filename to export the data to csv\n",
    ")\n",
    "\n",
    "\n",
    "my_model.exports = [derived_quantities]"
   ]
  },
  {
   "cell_type": "code",
   "execution_count": null,
   "metadata": {},
   "outputs": [],
   "source": [
    "my_model.initialise()\n",
    "my_model.run()"
   ]
  },
  {
   "cell_type": "code",
   "execution_count": null,
   "metadata": {},
   "outputs": [],
   "source": [
    "t = derived_quantities.t\n",
    "flux_left = derived_quantities.filter(fields=\"solute\", surfaces=1).data\n",
    "flux_right = derived_quantities.filter(fields=\"solute\", surfaces=2).data\n",
    "\n",
    "flux_total = -np.array(flux_left) - np.array(flux_right)"
   ]
  },
  {
   "cell_type": "code",
   "execution_count": null,
   "metadata": {},
   "outputs": [],
   "source": [
    "import matplotlib.pyplot as plt\n",
    "plt.plot(t, flux_total, linewidth=3)\n",
    "\n",
    "plt.ylabel(r\"Desorption flux (m$^{-2}$ s$^{-1}$)\")\n",
    "plt.xlabel(r\"Time (s)\")"
   ]
  },
  {
   "attachments": {},
   "cell_type": "markdown",
   "metadata": {},
   "source": [
    "Make use of numpy to compute the time derivative of the traps inventories!"
   ]
  },
  {
   "cell_type": "code",
   "execution_count": null,
   "metadata": {},
   "outputs": [],
   "source": [
    "trap_1 = derived_quantities.filter(fields=\"1\").data\n",
    "trap_2 = derived_quantities.filter(fields=\"2\").data\n",
    "trap_3 = derived_quantities.filter(fields=\"3\").data\n",
    "\n",
    "contribution_trap_1 = -np.diff(trap_1)/np.diff(t)\n",
    "contribution_trap_2 = -np.diff(trap_2)/np.diff(t)\n",
    "contribution_trap_3 = -np.diff(trap_3)/np.diff(t)"
   ]
  },
  {
   "attachments": {},
   "cell_type": "markdown",
   "metadata": {},
   "source": [
    "We can now plot the TDS spectrum with the 3 traps contributions"
   ]
  },
  {
   "cell_type": "code",
   "execution_count": null,
   "metadata": {},
   "outputs": [],
   "source": [
    "plt.plot(t, flux_total, linewidth=3)\n",
    "plt.plot(t[1:], contribution_trap_1, linestyle=\"--\", color=\"grey\")\n",
    "plt.fill_between(t[1:], 0, contribution_trap_1, facecolor='grey', alpha=0.1)\n",
    "plt.plot(t[1:], contribution_trap_2, linestyle=\"--\", color=\"grey\")\n",
    "plt.fill_between(t[1:], 0, contribution_trap_2, facecolor='grey', alpha=0.1)\n",
    "plt.plot(t[1:], contribution_trap_3, linestyle=\"--\", color=\"grey\")\n",
    "plt.fill_between(t[1:], 0, contribution_trap_3, facecolor='grey', alpha=0.1)\n",
    "\n",
    "plt.xlim(450, 500)\n",
    "plt.ylim(bottom=-1.25e18, top=0.6e19)\n",
    "plt.ylabel(r\"Desorption flux (m$^{-2}$ s$^{-1}$)\")\n",
    "plt.xlabel(r\"Time (s)\")\n",
    "\n",
    "plt.ylabel(r\"Desorption flux (m$^{-2}$ s$^{-1}$)\")\n",
    "plt.xlabel(r\"Time (s)\")"
   ]
  },
  {
   "attachments": {},
   "cell_type": "markdown",
   "metadata": {},
   "source": [
    "### Task:\n",
    "1) Increase the implantation temperature to 500 K and see how the TDS spectrum is affected\n",
    "2) Vary the detrapping energy of the first trap\n",
    "3) At the end of the implantation phase, what is the proportion of hydrogen trapped in trap 2?\n",
    "\n",
    "    <details>\n",
    "    <summary>Show solution</summary>\n",
    "    <br>\n",
    "    Make use of the exported derived quantities.\n",
    "\n",
    "    We computed the hydrogen inventory in traps 1, 2 and 3 as well as the mobile inventory.\n",
    "\n",
    "    ```python\n",
    "    t = derived_quantities.t\n",
    "    trap_1 = derived_quantities.filter(fields=\"1\").data\n",
    "    trap_2 = derived_quantities.filter(fields=\"2\").data\n",
    "    trap_3 = derived_quantities.filter(fields=\"3\").data\n",
    "    mobile = derived_quantities.filter(fields=\"solute\", instances=F.TotalVolume).data\n",
    "    total = derived_quantities.filter(fields=\"retention\").data\n",
    "\n",
    "    plt.stackplot(t, trap_1, trap_2, trap_3, mobile)\n",
    "    ```\n",
    "\n",
    "    Try to run it!\n",
    "\n",
    "    </details>\n"
   ]
  }
 ],
 "metadata": {
  "kernelspec": {
   "display_name": "Python 3.9.12 ('base')",
   "language": "python",
   "name": "python3"
  },
  "language_info": {
   "codemirror_mode": {
    "name": "ipython",
    "version": 3
   },
   "file_extension": ".py",
   "mimetype": "text/x-python",
   "name": "python",
   "nbconvert_exporter": "python",
   "pygments_lexer": "ipython3",
   "version": "3.10.11"
  },
  "orig_nbformat": 4,
  "vscode": {
   "interpreter": {
    "hash": "d4d1e4263499bec80672ea0156c357c1ee493ec2b1c70f0acce89fc37c4a6abe"
   }
  }
 },
 "nbformat": 4,
 "nbformat_minor": 2
}
