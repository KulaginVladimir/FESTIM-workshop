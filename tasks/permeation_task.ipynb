{
 "cells": [
  {
   "attachments": {},
   "cell_type": "markdown",
   "metadata": {},
   "source": [
    "# Simple permeation simulation\n",
    "\n",
    "In this task, we'll go through the basics of FESTIM and run a simple permeation simulation on a 1D domain."
   ]
  },
  {
   "cell_type": "code",
   "execution_count": 2,
   "metadata": {},
   "outputs": [],
   "source": [
    "import festim as F"
   ]
  },
  {
   "attachments": {},
   "cell_type": "markdown",
   "metadata": {},
   "source": [
    "The first step is to create a model using a `Simulation` object."
   ]
  },
  {
   "cell_type": "code",
   "execution_count": 3,
   "metadata": {},
   "outputs": [],
   "source": [
    "my_model = F.Simulation()"
   ]
  },
  {
   "cell_type": "code",
   "execution_count": 4,
   "metadata": {},
   "outputs": [],
   "source": [
    "import numpy as np\n",
    "\n",
    "my_model.mesh = F.MeshFromVertices(\n",
    "    vertices=np.linspace(0, 3e-4, num=1000)\n",
    ")"
   ]
  },
  {
   "attachments": {},
   "cell_type": "markdown",
   "metadata": {},
   "source": [
    "`Material` objects hold the materials properties like diffusivity and solubility.\n",
    "\n",
    "Here we only need the diffusivity defined as an Arrhenius law: $D = D_0 \\exp{(-E_D/k_B T)}$ where $k_B$ is the Boltzmann constant in eV/K and $T$ is the temperature in K. From this, the pre-exponential coefficient, $D_0$ in units m<sup>2</sup>/s, and the diffusion actiavtion energy, $E_D$ in units eV are needed.`"
   ]
  },
  {
   "cell_type": "code",
   "execution_count": 5,
   "metadata": {},
   "outputs": [],
   "source": [
    "my_model.materials = F.Material(id=1, D_0=1.9e-7, E_D=0.2)"
   ]
  },
  {
   "cell_type": "code",
   "execution_count": 6,
   "metadata": {},
   "outputs": [],
   "source": [
    "my_model.T = F.Temperature(value=500)"
   ]
  },
  {
   "cell_type": "code",
   "execution_count": 7,
   "metadata": {},
   "outputs": [],
   "source": [
    "P_up = 100\n",
    "\n",
    "my_model.boundary_conditions = [\n",
    "    F.SievertsBC(surfaces=1, S_0=4.02e21, E_S=1.04, pressure=P_up),\n",
    "    F.DirichletBC(\n",
    "        surfaces=2,\n",
    "        value=0,   # H/m3/s\n",
    "        field=0\n",
    "        )\n",
    "]"
   ]
  },
  {
   "attachments": {},
   "cell_type": "markdown",
   "metadata": {},
   "source": [
    "With `Settings` we set the main solver parameters.\n",
    "- `absolute_tolerance`: the absolute tolerance of the Newton solver. For concentrations in $\\mathrm{m}^{-3}$, `1e10` is usually fine.\n",
    "- `relative_tolerance`: the relative tolerance of the Newton solver. Values around `1e-10` are good practices.\n",
    "- `final_time`: since we want to solve a transient problem, we need to set the final time. Here, 100 s."
   ]
  },
  {
   "cell_type": "code",
   "execution_count": 8,
   "metadata": {},
   "outputs": [],
   "source": [
    "my_model.settings = F.Settings(\n",
    "    absolute_tolerance=1e-2,\n",
    "    relative_tolerance=1e-10,\n",
    "    final_time=100  # s\n",
    "    )"
   ]
  },
  {
   "cell_type": "code",
   "execution_count": 9,
   "metadata": {},
   "outputs": [],
   "source": [
    "my_model.dt = F.Stepsize(initial_value=1/20)"
   ]
  },
  {
   "cell_type": "code",
   "execution_count": 10,
   "metadata": {},
   "outputs": [],
   "source": [
    "derived_quantities = F.DerivedQuantities([F.HydrogenFlux(surface=2)])\n",
    "\n",
    "my_model.exports = [derived_quantities]"
   ]
  },
  {
   "cell_type": "code",
   "execution_count": 11,
   "metadata": {},
   "outputs": [
    {
     "name": "stdout",
     "output_type": "stream",
     "text": [
      "Defining initial values\n",
      "Defining variational problem\n",
      "Defining source terms\n",
      "Defining boundary conditions\n",
      "Time stepping...\n",
      "100.0 %        1.0e+02 s    Ellapsed time so far: 13.1 s\n"
     ]
    }
   ],
   "source": [
    "my_model.initialise()\n",
    "\n",
    "my_model.run()"
   ]
  },
  {
   "attachments": {},
   "cell_type": "markdown",
   "metadata": {},
   "source": [
    "This problem can be solved analytically. The solution for the downstream flux is:\n",
    "\n",
    "$$\\mathrm{downstream \\ flux} = \\frac{P_\\mathrm{up} \\Phi}{L} \\left(1 + 2 \\sum_{n=1}^{\\infty} \\left(-1\\right)^{n} \\exp{(- \\frac{\\pi^{2} D n^{2} t}{L^{2}})}\\right) $$"
   ]
  },
  {
   "cell_type": "code",
   "execution_count": 12,
   "metadata": {},
   "outputs": [],
   "source": [
    "def downstream_flux(t, P_up, permeability, L, D):\n",
    "    \"\"\"calculates the downstream H flux at a given time t\n",
    "\n",
    "    Args:\n",
    "        t (float, np.array): the time\n",
    "        P_up (float): upstream partial pressure of H\n",
    "        permeability (float): material permeability\n",
    "        L (float): material thickness\n",
    "        D (float): diffusivity of H in the material\n",
    "\n",
    "    Returns:\n",
    "        float, np.array: the downstream flux of H\n",
    "    \"\"\"\n",
    "    n_array = np.arange(1, 10000)[:, np.newaxis]\n",
    "    summation = np.sum((-1)**n_array * np.exp(-(np.pi * n_array)**2 * D/L**2 * t), axis=0)\n",
    "    return P_up**0.5 * permeability / L * (2*summation + 1)"
   ]
  },
  {
   "attachments": {},
   "cell_type": "markdown",
   "metadata": {},
   "source": [
    "We can compare the computed downstream flux to the analytical solution:"
   ]
  },
  {
   "cell_type": "code",
   "execution_count": 15,
   "metadata": {},
   "outputs": [
    {
     "data": {
      "text/plain": [
       "Text(0, 0.5, 'Downstream flux (H/m2/s)')"
      ]
     },
     "execution_count": 15,
     "metadata": {},
     "output_type": "execute_result"
    },
    {
     "data": {
      "image/png": "[encoded data removed]",
      "text/plain": [
       "<Figure size 640x480 with 1 Axes>"
      ]
     },
     "metadata": {},
     "output_type": "display_data"
    }
   ],
   "source": [
    "times = derived_quantities.t\n",
    "computed_flux = derived_quantities.filter(surfaces=2).data\n",
    "\n",
    "D = 1.9e-7*np.exp(-0.2/F.k_B/500)\n",
    "S = 4.02e21*np.exp(-1.04/F.k_B/500)\n",
    "\n",
    "import matplotlib.pyplot as plt\n",
    "plt.scatter(times, np.abs(computed_flux), alpha=0.2, label=\"computed\")\n",
    "plt.plot(times, downstream_flux(times, P_up, permeability=D*S, L=3e-4, D=D), color=\"tab:orange\", label=\"analytical\")\n",
    "plt.ylim(bottom=0)\n",
    "plt.xlabel(\"Time (s)\")\n",
    "plt.ylabel(\"Downstream flux (H/m2/s)\")"
   ]
  }
 ],
 "metadata": {
  "kernelspec": {
   "display_name": "Python 3.9.12 ('base')",
   "language": "python",
   "name": "python3"
  },
  "language_info": {
   "codemirror_mode": {
    "name": "ipython",
    "version": 3
   },
   "file_extension": ".py",
   "mimetype": "text/x-python",
   "name": "python",
   "nbconvert_exporter": "python",
   "pygments_lexer": "ipython3",
   "version": "3.10.11"
  },
  "orig_nbformat": 4,
  "vscode": {
   "interpreter": {
    "hash": "d4d1e4263499bec80672ea0156c357c1ee493ec2b1c70f0acce89fc37c4a6abe"
   }
  }
 },
 "nbformat": 4,
 "nbformat_minor": 2
}
