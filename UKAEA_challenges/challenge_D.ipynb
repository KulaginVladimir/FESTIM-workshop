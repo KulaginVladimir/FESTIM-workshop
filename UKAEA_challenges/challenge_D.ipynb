{
 "cells": [
  {
   "cell_type": "markdown",
   "metadata": {},
   "source": [
    "# Challenge D: Evaulate the hydrogen inventory within a complex structure\n",
    "\n",
    "## Description\n",
    "\n",
    "A complex geometry has been contructed and meshed in SALOME and the resulting .med file is located in the challenge_D folder. You will need to first convert this med file to .xdmf, the file format readable by fenics, a function has been provided for this, which will also produce the correspondance dictionary, providing the id's for each tagged volume and surface.\n",
    "\n",
    "**📖 Task: Evaulate the hydrogen inventory**\n",
    "\n",
    "The transport properties for the geometry's material can be found below:"
   ]
  },
  {
   "cell_type": "code",
   "execution_count": null,
   "metadata": {},
   "outputs": [],
   "source": [
    "import h_transport_materials as htm\n",
    "\n",
    "# material properties\n",
    "D_mat = htm.diffusivities.filter(material=\"gold\")[0]\n",
    "\n",
    "D_0 = D_mat.pre_exp.magnitude\n",
    "E_D = D_mat.pre_exp.magnitude\n"
   ]
  },
  {
   "cell_type": "code",
   "execution_count": 7,
   "metadata": {},
   "outputs": [
    {
     "name": "stdout",
     "output_type": "stream",
     "text": [
      "This is the correspondance dict:\n",
      "{-6: ['solid'], -7: ['inner_boundary'], -8: ['outer_boundary']}\n"
     ]
    }
   ],
   "source": [
    "import meshio\n",
    "\n",
    "\n",
    "def convert_med_to_xdmf(\n",
    "    med_file,\n",
    "    cell_file=\"mesh_domains.xdmf\",\n",
    "    facet_file=\"mesh_boundaries.xdmf\",\n",
    "    cell_type=\"tetra\",\n",
    "    facet_type=\"triangle\",\n",
    "):\n",
    "    \"\"\"Converts a MED mesh to XDMF\n",
    "    Args:\n",
    "        med_file (str): the name of the MED file\n",
    "        cell_file (str, optional): the name of the file containing the\n",
    "            volume markers. Defaults to \"mesh_domains.xdmf\".\n",
    "        facet_file (str, optional): the name of the file containing the\n",
    "            surface markers.. Defaults to \"mesh_boundaries.xdmf\".\n",
    "        cell_type (str, optional): The topology of the cells. Defaults to \"tetra\".\n",
    "        facet_type (str, optional): The topology of the facets. Defaults to \"triangle\".\n",
    "    Returns:\n",
    "        dict, dict: the correspondance dict, the cell types\n",
    "    \"\"\"\n",
    "    msh = meshio.read(med_file)\n",
    "\n",
    "    correspondance_dict = msh.cell_tags\n",
    "\n",
    "    cell_data_types = msh.cell_data_dict[\"cell_tags\"].keys()\n",
    "\n",
    "    for mesh_block in msh.cells:\n",
    "        if mesh_block.type == cell_type:\n",
    "\n",
    "            meshio.write_points_cells(\n",
    "                cell_file,\n",
    "                msh.points,\n",
    "                [mesh_block],\n",
    "                cell_data={\"f\": [-1 * msh.cell_data_dict[\"cell_tags\"][cell_type]]},\n",
    "            )\n",
    "        elif mesh_block.type == facet_type:\n",
    "            meshio.write_points_cells(\n",
    "                facet_file,\n",
    "                msh.points,\n",
    "                [mesh_block],\n",
    "                cell_data={\"f\": [-1 * msh.cell_data_dict[\"cell_tags\"][facet_type]]},\n",
    "            )\n",
    "\n",
    "    return correspondance_dict, cell_data_types\n",
    "\n",
    "\n",
    "mesh_file = \"challenge_D/challenge_mesh.med\"\n",
    "\n",
    "correspondance_dict, cell_data_types = convert_med_to_xdmf(\n",
    "    mesh_file,\n",
    "    cell_type=\"triangle\",\n",
    "    facet_type=\"line\",\n",
    "    cell_file=\"challenge_D/mesh_domains.xdmf\",\n",
    "    facet_file=\"challenge_D/mesh_boundaries.xdmf\",\n",
    ")\n",
    "\n",
    "print(\"This is the correspondance dict:\")\n",
    "print(correspondance_dict)"
   ]
  },
  {
   "cell_type": "markdown",
   "metadata": {},
   "source": [
    "## Your answer"
   ]
  },
  {
   "cell_type": "code",
   "execution_count": null,
   "metadata": {},
   "outputs": [],
   "source": [
    "import festim as F\n",
    "\n",
    "# YOUR CODE GOES HERE ...\n"
   ]
  },
  {
   "cell_type": "code",
   "execution_count": null,
   "metadata": {},
   "outputs": [],
   "source": [
    "import fenics as f\n",
    "import matplotlib.pyplot as plt\n",
    "\n",
    "# sol = my_model.h_transport_problem.mobile.mobile_concentration()\n",
    "# CS = f.plot(sol)\n",
    "# plt.colorbar(CS)\n",
    "plt.title(\"Mobile tritium concentration (H/m3)\")\n",
    "plt.show()"
   ]
  }
 ],
 "metadata": {
  "kernelspec": {
   "display_name": "festim-env",
   "language": "python",
   "name": "python3"
  },
  "language_info": {
   "codemirror_mode": {
    "name": "ipython",
    "version": 3
   },
   "file_extension": ".py",
   "mimetype": "text/x-python",
   "name": "python",
   "nbconvert_exporter": "python",
   "pygments_lexer": "ipython3",
   "version": "3.11.9"
  }
 },
 "nbformat": 4,
 "nbformat_minor": 2
}
