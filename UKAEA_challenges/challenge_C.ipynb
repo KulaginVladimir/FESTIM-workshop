{
 "cells": [
  {
   "cell_type": "markdown",
   "metadata": {},
   "source": [
    "## Challenge A: Evaulate the PRF of a Aluminate coating\n",
    "\n",
    "In this exercise you will need to run two FESTIM simulations, one with a 2.5 $\\mu \\text{m}$ thick barrier "
   ]
  },
  {
   "cell_type": "code",
   "execution_count": 23,
   "metadata": {},
   "outputs": [],
   "source": [
    "import festim as F\n",
    "import h_transport_materials as htm\n",
    "import numpy as np\n",
    "\n",
    "# eurofer properties\n",
    "diffusivity_eurofer = htm.diffusivities.filter(material=\"eurofer_97\").filter(\n",
    "    author=\"chen\"\n",
    ")\n",
    "D_eurofer = diffusivity_eurofer[0]\n",
    "\n",
    "solubility_eurofer = htm.solubilities.filter(material=\"eurofer_97\").filter(\n",
    "    author=\"chen\"\n",
    ")\n",
    "S_eurofer = solubility_eurofer[0]\n",
    "\n",
    "# Al2O3 properties\n",
    "diffusivity_al2o3 = (\n",
    "    htm.diffusivities.filter(material=\"alumina\")\n",
    "    .filter(isotope=\"h\")\n",
    "    .filter(author=\"serra\")\n",
    ")\n",
    "D_al2o3 = diffusivity_al2o3[0]\n",
    "solubility_al2o3 = (\n",
    "    htm.solubilities.filter(material=\"alumina\")\n",
    "    .filter(isotope=\"h\")\n",
    "    .filter(author=\"serra\")\n",
    ")\n",
    "S_al2o3 = solubility_al2o3[0]\n",
    "\n",
    "L_eurofer = 0.02\n",
    "L_barrier = 2e-6\n",
    "\n",
    "results_folder = \"challenge_A/\"\n"
   ]
  },
  {
   "cell_type": "code",
   "execution_count": 24,
   "metadata": {},
   "outputs": [
    {
     "name": "stdout",
     "output_type": "stream",
     "text": [
      "Defining initial values\n",
      "Defining variational problem\n",
      "Defining source terms\n",
      "Defining boundary conditions\n",
      "Solving steady state problem...\n"
     ]
    },
    {
     "name": "stderr",
     "output_type": "stream",
     "text": [
      "/home/jdark/anaconda3/envs/festim-env/lib/python3.11/site-packages/festim/exports/derived_quantities/derived_quantities.py:52: DeprecationWarning: The derived_quantities attribute will be deprecated in a future release, please use festim.DerivedQuantities as a list instead\n",
      "  warnings.warn(\n"
     ]
    },
    {
     "name": "stdout",
     "output_type": "stream",
     "text": [
      "Solved problem in 0.90 s\n"
     ]
    }
   ],
   "source": [
    "model_with_barrier = F.Simulation(log_level=40)\n",
    "\n",
    "# define mesh\n",
    "size = L_eurofer + L_barrier\n",
    "cells_required = int(size / 1e-07)\n",
    "vertices = np.linspace(0, size, num=cells_required)\n",
    "\n",
    "model_with_barrier.mesh = F.MeshFromVertices(vertices=vertices)\n",
    "\n",
    "# define materials\n",
    "eurofer = F.Material(\n",
    "    id=2,\n",
    "    borders=[0, L_eurofer],\n",
    "    D_0=D_eurofer.pre_exp.magnitude,\n",
    "    E_D=D_eurofer.act_energy.magnitude,\n",
    "    S_0=S_eurofer.pre_exp.magnitude,\n",
    "    E_S=S_eurofer.act_energy.magnitude,\n",
    ")\n",
    "al2o3 = F.Material(\n",
    "    id=1,\n",
    "    borders=[L_eurofer, size],\n",
    "    D_0=D_al2o3.pre_exp.magnitude,\n",
    "    E_D=D_al2o3.act_energy.magnitude,\n",
    "    S_0=S_al2o3.pre_exp.magnitude,\n",
    "    E_S=S_al2o3.act_energy.magnitude,\n",
    ")\n",
    "model_with_barrier.materials = F.Materials([eurofer, al2o3])\n",
    "\n",
    "# define temperature\n",
    "model_with_barrier.T = F.Temperature(value=600)\n",
    "\n",
    "# define boundary conditions\n",
    "model_with_barrier.boundary_conditions = [\n",
    "    F.DirichletBC(surfaces=1, value=1e18, field=\"solute\"),\n",
    "    F.DirichletBC(surfaces=2, value=0, field=\"solute\"),\n",
    "]\n",
    "\n",
    "# define settings\n",
    "model_with_barrier.settings = F.Settings(\n",
    "    absolute_tolerance=1e-10,\n",
    "    relative_tolerance=1e-10,\n",
    "    maximum_iterations=30,\n",
    "    transient=False,\n",
    "    chemical_pot=True,\n",
    ")\n",
    "\n",
    "# define exports\n",
    "my_derived_quantities = F.DerivedQuantities(\n",
    "    [        \n",
    "        F.SurfaceFlux(\"solute\", surface=2)\n",
    "    ],\n",
    "    filename=results_folder + \"with_barrier.csv\", \n",
    ")\n",
    "model_with_barrier.exports = F.Exports([my_derived_quantities])\n",
    "\n",
    "# run simulation\n",
    "model_with_barrier.initialise()\n",
    "model_with_barrier.run()"
   ]
  },
  {
   "cell_type": "code",
   "execution_count": 25,
   "metadata": {},
   "outputs": [
    {
     "name": "stdout",
     "output_type": "stream",
     "text": [
      "Defining initial values\n",
      "Defining variational problem\n",
      "Defining source terms\n",
      "Defining boundary conditions\n",
      "Solving steady state problem...\n"
     ]
    },
    {
     "name": "stderr",
     "output_type": "stream",
     "text": [
      "/home/jdark/anaconda3/envs/festim-env/lib/python3.11/site-packages/festim/exports/derived_quantities/derived_quantities.py:52: DeprecationWarning: The derived_quantities attribute will be deprecated in a future release, please use festim.DerivedQuantities as a list instead\n",
      "  warnings.warn(\n"
     ]
    },
    {
     "name": "stdout",
     "output_type": "stream",
     "text": [
      "Solved problem in 1.00 s\n"
     ]
    }
   ],
   "source": [
    "model_without_barrier = F.Simulation(log_level=40)\n",
    "\n",
    "# define mesh\n",
    "size = L_eurofer\n",
    "cells_required = int(size / 1e-07)\n",
    "vertices = np.linspace(0, size, num=cells_required)\n",
    "\n",
    "model_without_barrier.mesh = F.MeshFromVertices(vertices=vertices)\n",
    "\n",
    "# define materials\n",
    "eurofer = F.Material(\n",
    "    id=2,\n",
    "    borders=[0, L_eurofer],\n",
    "    D_0=D_eurofer.pre_exp.magnitude,\n",
    "    E_D=D_eurofer.act_energy.magnitude,\n",
    "    S_0=S_eurofer.pre_exp.magnitude,\n",
    "    E_S=S_eurofer.act_energy.magnitude,\n",
    ")\n",
    "model_without_barrier.materials = F.Materials([eurofer])\n",
    "\n",
    "# define temperature\n",
    "model_without_barrier.T = F.Temperature(value=600)\n",
    "\n",
    "# define boundary conditions\n",
    "model_without_barrier.boundary_conditions = [\n",
    "    F.DirichletBC(surfaces=1, value=1e18, field=\"solute\"),\n",
    "    F.DirichletBC(surfaces=2, value=0, field=\"solute\"),\n",
    "]\n",
    "\n",
    "# define settings\n",
    "model_without_barrier.settings = F.Settings(\n",
    "    absolute_tolerance=1e-10,\n",
    "    relative_tolerance=1e-10,\n",
    "    maximum_iterations=30,\n",
    "    transient=False,\n",
    "    chemical_pot=True,\n",
    ")\n",
    "\n",
    "# define exports\n",
    "my_derived_quantities = F.DerivedQuantities(\n",
    "    [        \n",
    "        F.SurfaceFlux(\"solute\", surface=2)\n",
    "    ],\n",
    "    filename=results_folder + \"without_barrier.csv\", \n",
    ")\n",
    "model_without_barrier.exports = F.Exports([my_derived_quantities])\n",
    "\n",
    "# run simulation\n",
    "model_without_barrier.initialise()\n",
    "model_without_barrier.run()"
   ]
  },
  {
   "cell_type": "code",
   "execution_count": 26,
   "metadata": {},
   "outputs": [
    {
     "name": "stdout",
     "output_type": "stream",
     "text": [
      "Surface flux with barrier = 3.06e+08 H/m2/s\n",
      "Surface flux without barrier = 4.76e+11 H/m2/s\n",
      "PRF = 1557\n"
     ]
    }
   ],
   "source": [
    "data_with_barrier = np.genfromtxt(\n",
    "    results_folder + \"/with_barrier.csv\", delimiter=\",\", names=True\n",
    ")\n",
    "data_without_barrier = np.genfromtxt(\n",
    "    results_folder + \"/without_barrier.csv\", delimiter=\",\", names=True\n",
    ")\n",
    "\n",
    "surface_flux_with_barrier = data_with_barrier[\"Flux_surface_2_solute\"] *-1\n",
    "surface_flux_without_barrier = data_without_barrier[\"Flux_surface_2_solute\"] *-1\n",
    "\n",
    "PRF = surface_flux_without_barrier / surface_flux_with_barrier\n",
    "\n",
    "print(f\"Surface flux with barrier = {surface_flux_with_barrier:.2e} H/m2/s\")\n",
    "print(f\"Surface flux without barrier = {surface_flux_without_barrier:.2e} H/m2/s\")\n",
    "\n",
    "print(f\"PRF = {PRF:.0f}\")\n"
   ]
  }
 ],
 "metadata": {
  "kernelspec": {
   "display_name": "festim-env",
   "language": "python",
   "name": "python3"
  },
  "language_info": {
   "codemirror_mode": {
    "name": "ipython",
    "version": 3
   },
   "file_extension": ".py",
   "mimetype": "text/x-python",
   "name": "python",
   "nbconvert_exporter": "python",
   "pygments_lexer": "ipython3",
   "version": "3.11.9"
  }
 },
 "nbformat": 4,
 "nbformat_minor": 2
}
