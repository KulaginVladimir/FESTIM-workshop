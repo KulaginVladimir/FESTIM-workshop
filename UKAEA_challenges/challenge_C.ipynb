{
 "cells": [
  {
   "cell_type": "markdown",
   "metadata": {},
   "source": [
    "# Challenge C: Evaulate the hydrogen surface flux from a Eurofer pipe"
   ]
  },
  {
   "cell_type": "markdown",
   "metadata": {},
   "source": [
    "## Description\n",
    "\n",
    "Consider hydrogen being transported through a piping network, some may permeate through the pipe walls. For this challenge you will need to evaulate how much hydorgen permeates from the outer surface at steady-state.\n",
    "\n",
    "Consider a Eurofer pipe with walls 5mm thick at a fixed temperature of 600K.\n",
    "\n",
    "**📖 Task: Evaulate the hydrogen surface flux from the outer surface of the pipe**\n",
    "\n",
    "💡Hint: consider the <em>type</em> argument when defining the mesh."
   ]
  },
  {
   "cell_type": "code",
   "execution_count": 2,
   "metadata": {},
   "outputs": [],
   "source": [
    "import h_transport_materials as htm\n",
    "\n",
    "# eurofer properties\n",
    "D_eurofer = htm.diffusivities.filter(material=\"eurofer_97\").filter(author=\"chen\")[0]\n",
    "\n",
    "S_eurofer = htm.solubilities.filter(material=\"eurofer_97\").filter(author=\"chen\")[0]"
   ]
  },
  {
   "cell_type": "code",
   "execution_count": 1,
   "metadata": {},
   "outputs": [
    {
     "name": "stderr",
     "output_type": "stream",
     "text": [
      "[DESKTOP-6T0UN3L:58786] mca_base_component_repository_open: unable to open mca_btl_openib: librdmacm.so.1: cannot open shared object file: No such file or directory (ignored)\n"
     ]
    },
    {
     "name": "stdout",
     "output_type": "stream",
     "text": [
      "Defining initial values\n",
      "Defining variational problem\n",
      "Defining source terms\n",
      "Defining boundary conditions\n",
      "Solving steady state problem...\n",
      "Calling FFC just-in-time (JIT) compiler, this may take some time.\n",
      "Calling FFC just-in-time (JIT) compiler, this may take some time.\n",
      "Calling FFC just-in-time (JIT) compiler, this may take some time.\n",
      "Solved problem in 1.80 s\n",
      "Surface flux = 4.72e+00 H/m2/s\n"
     ]
    }
   ],
   "source": [
    "import festim as F\n",
    "\n",
    "\n",
    "results_folder = \"challenge_B/\"\n",
    "\n",
    "my_model = F.Simulation()\n",
    "\n",
    "# define mesh\n",
    "size = 5e-03\n",
    "vertices = np.linspace(0, size, num=1000)\n",
    "\n",
    "my_model.mesh = F.MeshFromVertices(vertices=vertices, type=\"cylindrical\")\n",
    "\n",
    "# define materials\n",
    "\n",
    "# eurofer properties\n",
    "D_eurofer = htm.diffusivities.filter(material=\"eurofer_97\").filter(author=\"chen\")[0]\n",
    "\n",
    "S_eurofer = htm.solubilities.filter(material=\"eurofer_97\").filter(author=\"chen\")[0]\n",
    "\n",
    "eurofer = F.Material(\n",
    "    id=1,\n",
    "    D_0=D_eurofer.pre_exp.magnitude,\n",
    "    E_D=D_eurofer.act_energy.magnitude,\n",
    ")\n",
    "my_model.materials = eurofer\n",
    "\n",
    "# define temperature\n",
    "my_model.T = F.Temperature(value=600)\n",
    "\n",
    "# define boundary conditions\n",
    "my_model.boundary_conditions = [\n",
    "    F.SievertsBC(\n",
    "        surfaces=1,\n",
    "        S_0=S_eurofer.pre_exp.magnitude,\n",
    "        E_S=S_eurofer.act_energy.magnitude,\n",
    "        pressure=1e6,\n",
    "    ),\n",
    "    F.DirichletBC(surfaces=2, value=0, field=\"solute\"),\n",
    "]\n",
    "\n",
    "# define settings\n",
    "my_model.settings = F.Settings(\n",
    "    absolute_tolerance=1e-10,\n",
    "    relative_tolerance=1e-10,\n",
    "    transient=False,\n",
    ")\n",
    "\n",
    "# define exports\n",
    "my_derived_quantities = F.DerivedQuantities(\n",
    "    [F.SurfaceFluxCylindrical(\"solute\", surface=2)],\n",
    "    show_units=True,\n",
    ")\n",
    "my_model.exports = F.Exports([my_derived_quantities])\n",
    "\n",
    "# run simulation\n",
    "my_model.initialise()\n",
    "my_model.run()\n",
    "\n",
    "surface_flux = np.abs(my_derived_quantities[0].data[0])\n",
    "\n",
    "print(f\"Surface flux = {surface_flux:.2e} H/m2/s\")"
   ]
  }
 ],
 "metadata": {
  "kernelspec": {
   "display_name": "festim-env",
   "language": "python",
   "name": "python3"
  },
  "language_info": {
   "codemirror_mode": {
    "name": "ipython",
    "version": 3
   },
   "file_extension": ".py",
   "mimetype": "text/x-python",
   "name": "python",
   "nbconvert_exporter": "python",
   "pygments_lexer": "ipython3",
   "version": "3.11.9"
  }
 },
 "nbformat": 4,
 "nbformat_minor": 2
}
