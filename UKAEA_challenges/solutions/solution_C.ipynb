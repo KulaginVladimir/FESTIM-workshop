{
 "cells": [
  {
   "cell_type": "markdown",
   "metadata": {},
   "source": [
    "# Challenge C: permeation through a EUROFER pipe"
   ]
  },
  {
   "cell_type": "code",
   "execution_count": 1,
   "metadata": {},
   "outputs": [],
   "source": [
    "import festim as F\n",
    "import h_transport_materials as htm\n",
    "import numpy as np"
   ]
  },
  {
   "cell_type": "code",
   "execution_count": 2,
   "metadata": {},
   "outputs": [
    {
     "name": "stdout",
     "output_type": "stream",
     "text": [
      "Defining initial values\n",
      "Defining variational problem\n",
      "Defining source terms\n",
      "Defining boundary conditions\n",
      "Solving steady state problem...\n",
      "Solved problem in 0.00 s\n"
     ]
    }
   ],
   "source": [
    "results_folder = \"challenge_B/\"\n",
    "\n",
    "my_model = F.Simulation()\n",
    "\n",
    "# define mesh\n",
    "size = 5e-03\n",
    "vertices = np.linspace(0, size, num=1000)\n",
    "\n",
    "my_model.mesh = F.MeshFromVertices(vertices=vertices, type=\"cylindrical\")\n",
    "\n",
    "# define materials\n",
    "\n",
    "# eurofer properties\n",
    "D_eurofer = htm.diffusivities.filter(material=\"eurofer_97\").filter(author=\"chen\")[0]\n",
    "\n",
    "S_eurofer = htm.solubilities.filter(material=\"eurofer_97\").filter(author=\"chen\")[0]\n",
    "\n",
    "eurofer = F.Material(\n",
    "    id=1,\n",
    "    D_0=D_eurofer.pre_exp.magnitude,\n",
    "    E_D=D_eurofer.act_energy.magnitude,\n",
    ")\n",
    "my_model.materials = eurofer\n",
    "\n",
    "# define temperature\n",
    "my_model.T = F.Temperature(value=600)\n",
    "\n",
    "# define boundary conditions\n",
    "my_model.boundary_conditions = [\n",
    "    F.SievertsBC(\n",
    "        surfaces=1,\n",
    "        S_0=S_eurofer.pre_exp.magnitude,\n",
    "        E_S=S_eurofer.act_energy.magnitude,\n",
    "        pressure=1e6,\n",
    "    ),\n",
    "    F.DirichletBC(surfaces=2, value=0, field=\"solute\"),\n",
    "]\n",
    "\n",
    "# define settings\n",
    "my_model.settings = F.Settings(\n",
    "    absolute_tolerance=1e-10,\n",
    "    relative_tolerance=1e-10,\n",
    "    transient=False,\n",
    ")\n",
    "\n",
    "# define exports\n",
    "my_derived_quantities = F.DerivedQuantities(\n",
    "    [F.SurfaceFluxCylindrical(\"solute\", surface=2)],\n",
    "    show_units=True,\n",
    ")\n",
    "my_model.exports = F.Exports([my_derived_quantities])\n",
    "\n",
    "# run simulation\n",
    "my_model.initialise()\n",
    "my_model.run()"
   ]
  },
  {
   "cell_type": "code",
   "execution_count": 3,
   "metadata": {},
   "outputs": [
    {
     "name": "stdout",
     "output_type": "stream",
     "text": [
      "Surface flux = 4.72e+00 H/m2/s\n"
     ]
    }
   ],
   "source": [
    "surface_flux = np.abs(my_derived_quantities[0].data[0])\n",
    "\n",
    "print(f\"Surface flux = {surface_flux:.2e} H/m2/s\")"
   ]
  }
 ],
 "metadata": {
  "kernelspec": {
   "display_name": "festim-env",
   "language": "python",
   "name": "python3"
  },
  "language_info": {
   "codemirror_mode": {
    "name": "ipython",
    "version": 3
   },
   "file_extension": ".py",
   "mimetype": "text/x-python",
   "name": "python",
   "nbconvert_exporter": "python",
   "pygments_lexer": "ipython3",
   "version": "3.11.9"
  }
 },
 "nbformat": 4,
 "nbformat_minor": 2
}
