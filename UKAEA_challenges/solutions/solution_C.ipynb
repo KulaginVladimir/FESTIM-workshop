{
 "cells": [
  {
   "cell_type": "code",
   "execution_count": 1,
   "metadata": {},
   "outputs": [
    {
     "name": "stderr",
     "output_type": "stream",
     "text": [
      "[DESKTOP-6T0UN3L:65410] mca_base_component_repository_open: unable to open mca_btl_openib: librdmacm.so.1: cannot open shared object file: No such file or directory (ignored)\n"
     ]
    }
   ],
   "source": [
    "import festim as F\n",
    "import h_transport_materials as htm\n",
    "import numpy as np"
   ]
  },
  {
   "cell_type": "code",
   "execution_count": 4,
   "metadata": {},
   "outputs": [
    {
     "name": "stdout",
     "output_type": "stream",
     "text": [
      "Defining initial values\n",
      "Defining variational problem\n",
      "Defining source terms\n",
      "Defining boundary conditions\n",
      "Solving steady state problem...\n",
      "Solved problem in 0.00 s\n",
      "Surface flux = 1.50e+02 H/m2/s\n"
     ]
    },
    {
     "name": "stderr",
     "output_type": "stream",
     "text": [
      "/home/jdark/anaconda3/envs/festim-env/lib/python3.11/site-packages/festim/exports/derived_quantities/derived_quantities.py:52: DeprecationWarning: The derived_quantities attribute will be deprecated in a future release, please use festim.DerivedQuantities as a list instead\n",
      "  warnings.warn(\n"
     ]
    }
   ],
   "source": [
    "# eurofer properties\n",
    "diffusivity_eurofer = htm.diffusivities.filter(material=\"eurofer_97\").filter(\n",
    "    author=\"chen\"\n",
    ")\n",
    "D_eurofer = diffusivity_eurofer[0]\n",
    "\n",
    "solubility_eurofer = htm.solubilities.filter(material=\"eurofer_97\").filter(\n",
    "    author=\"chen\"\n",
    ")\n",
    "S_eurofer = solubility_eurofer[0]\n",
    "\n",
    "results_folder = \"challenge_B/\"\n",
    "\n",
    "my_model = F.Simulation(log_level=40)\n",
    "\n",
    "# define mesh\n",
    "size = 5e-03\n",
    "vertices = np.linspace(0, size, num=1000)\n",
    "\n",
    "my_model.mesh = F.MeshFromVertices(vertices=vertices, type=\"cylindrical\")\n",
    "\n",
    "# define materials\n",
    "eurofer = F.Material(\n",
    "    id=1,\n",
    "    borders=[0, size],\n",
    "    D_0=D_eurofer.pre_exp.magnitude,\n",
    "    E_D=D_eurofer.act_energy.magnitude,\n",
    ")\n",
    "my_model.materials = F.Materials([eurofer])\n",
    "\n",
    "# define temperature\n",
    "my_model.T = F.Temperature(value=600)\n",
    "\n",
    "# define boundary conditions\n",
    "my_model.boundary_conditions = [\n",
    "    F.SievertsBC(\n",
    "        surfaces=1,\n",
    "        S_0=S_eurofer.pre_exp.magnitude,\n",
    "        E_S=S_eurofer.act_energy.magnitude,\n",
    "        pressure=1e6,\n",
    "    ),\n",
    "    F.DirichletBC(surfaces=2, value=0, field=\"solute\"),\n",
    "]\n",
    "\n",
    "# define settings\n",
    "my_model.settings = F.Settings(\n",
    "    absolute_tolerance=1e-10,\n",
    "    relative_tolerance=1e-10,\n",
    "    maximum_iterations=30,\n",
    "    transient=False,\n",
    ")\n",
    "\n",
    "# define exports\n",
    "my_derived_quantities = F.DerivedQuantities(\n",
    "    [F.SurfaceFlux(\"solute\", surface=2)],\n",
    "    filename=results_folder + \"derived_quantities.csv\",\n",
    ")\n",
    "my_model.exports = F.Exports([my_derived_quantities])\n",
    "\n",
    "# run simulation\n",
    "my_model.initialise()\n",
    "my_model.run()"
   ]
  },
  {
   "cell_type": "code",
   "execution_count": 5,
   "metadata": {},
   "outputs": [
    {
     "name": "stdout",
     "output_type": "stream",
     "text": [
      "Surface flux = 1.50e+02 H/m2/s\n"
     ]
    }
   ],
   "source": [
    "data = np.genfromtxt(\n",
    "    results_folder + \"derived_quantities.csv\", delimiter=\",\", names=True\n",
    ")\n",
    "\n",
    "surface_flux = data[\"Flux_surface_2_solute\"] * -1\n",
    "\n",
    "print(f\"Surface flux = {surface_flux:.2e} H/m2/s\")"
   ]
  }
 ],
 "metadata": {
  "kernelspec": {
   "display_name": "festim-env",
   "language": "python",
   "name": "python3"
  },
  "language_info": {
   "codemirror_mode": {
    "name": "ipython",
    "version": 3
   },
   "file_extension": ".py",
   "mimetype": "text/x-python",
   "name": "python",
   "nbconvert_exporter": "python",
   "pygments_lexer": "ipython3",
   "version": "3.11.9"
  }
 },
 "nbformat": 4,
 "nbformat_minor": 2
}
