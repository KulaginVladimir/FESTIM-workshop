{
 "cells": [
  {
   "cell_type": "code",
   "execution_count": 11,
   "metadata": {},
   "outputs": [],
   "source": [
    "import festim as F\n",
    "import h_transport_materials as htm\n",
    "import numpy as np\n",
    "import meshio\n",
    "\n",
    "# Gold properties\n",
    "diffusivity_gold = htm.diffusivities.filter(material=\"gold\")\n",
    "D_Au = diffusivity_gold[0]"
   ]
  },
  {
   "cell_type": "code",
   "execution_count": 12,
   "metadata": {},
   "outputs": [
    {
     "name": "stdout",
     "output_type": "stream",
     "text": [
      "This is the correspondance dict\n",
      "{-6: ['solid'], -7: ['inner_boundary'], -8: ['outer_boundary']}\n"
     ]
    }
   ],
   "source": [
    "\n",
    "mesh = meshio.read(\"{}\".format(\"../challenge_D/challenge_mesh.med\"))\n",
    "\n",
    "# In order to use MeshFunction of FEniCS\n",
    "# The tag must be a positive number (size_t)\n",
    "\n",
    "# this doesn't work cause cell_data_dict doesn't have a setter\n",
    "mesh.cell_data_dict[\"cell_tags\"][\"triangle\"] *= -1\n",
    "mesh.cell_data_dict[\"cell_tags\"][\"line\"] *= -1\n",
    "\n",
    "# print the correspondance\n",
    "print(\"This is the correspondance dict\")\n",
    "print(mesh.cell_tags)\n",
    "# mesh.cell_tags = {-6: ['Down'], -7: ['Top'], -8: ['Lying on Top']}\n",
    "\n",
    "# Export mesh that contains only triangular faces\n",
    "# along with tags\n",
    "domains_file = meshio.write_points_cells(\n",
    "    \"../challenge_D/mesh_domains.xdmf\",\n",
    "    mesh.points,\n",
    "    [mesh.cells[1]],\n",
    "    cell_data={\"f\": [-1 * mesh.cell_data[\"cell_tags\"][1]]},\n",
    ")\n",
    "\n",
    "# Export mesh that contains only lines\n",
    "# along with tags\n",
    "\n",
    "boundaries_file = meshio.write_points_cells(\n",
    "    \"../challenge_D/mesh_boundaries.xdmf\",\n",
    "    mesh.points,\n",
    "    [mesh.cells[0]],\n",
    "    cell_data={\"f\": [-1 * mesh.cell_data[\"cell_tags\"][0]]},\n",
    ")\n"
   ]
  },
  {
   "cell_type": "code",
   "execution_count": 13,
   "metadata": {},
   "outputs": [
    {
     "name": "stdout",
     "output_type": "stream",
     "text": [
      "Succesfully load mesh with 17641 cells\n",
      "No Jacobian form specified for nonlinear variational problem.\n",
      "Differentiating residual form F to obtain Jacobian J = F'.\n",
      "Solving nonlinear variational problem.\n",
      "  Newton iteration 0: r (abs) = 0.000e+00 (tol = 1.000e-10) r (rel) = -nan (tol = 1.000e-09)\n",
      "  Newton solver finished in 0 iterations and 0 linear solver iterations.\n",
      "No Jacobian form specified for nonlinear variational problem.\n",
      "Differentiating residual form F to obtain Jacobian J = F'.\n",
      "Calling FFC just-in-time (JIT) compiler, this may take some time.\n",
      "Calling FFC just-in-time (JIT) compiler, this may take some time.\n",
      "Solving nonlinear variational problem.\n",
      "  Newton iteration 0: r (abs) = 1.721e-05 (tol = 1.000e-10) r (rel) = 1.000e+00 (tol = 1.000e-09)\n",
      "  Newton iteration 1: r (abs) = 3.771e-22 (tol = 1.000e-10) r (rel) = 2.190e-17 (tol = 1.000e-09)\n",
      "  Newton solver finished in 1 iterations and 1 linear solver iterations.\n",
      "Defining initial values\n",
      "Defining variational problem\n",
      "Defining source terms\n",
      "Defining boundary conditions\n",
      "Solving steady state problem...\n",
      "Calling FFC just-in-time (JIT) compiler, this may take some time.\n",
      "Calling FFC just-in-time (JIT) compiler, this may take some time.\n",
      "Solving nonlinear variational problem.\n",
      "Solved problem in 1.10 s\n",
      "  Newton iteration 0: r (abs) = 1.202e+20 (tol = 1.000e-10) r (rel) = 1.000e+00 (tol = 1.000e-10)\n",
      "  Newton iteration 1: r (abs) = 9.938e-06 (tol = 1.000e-10) r (rel) = 8.267e-26 (tol = 1.000e-10)\n",
      "  Newton solver finished in 1 iterations and 1 linear solver iterations.\n"
     ]
    }
   ],
   "source": [
    "# IDs for volumes and surfaces (must be the same as in xdmf files)\n",
    "\n",
    "id_solid = 6\n",
    "\n",
    "id_inner_boundary = 7\n",
    "id_outer_boundary = 8\n",
    "\n",
    "my_model = F.Simulation(log_level=20)\n",
    "\n",
    "# define mesh\n",
    "my_model.mesh = F.MeshFromXDMF(\n",
    "    volume_file=\"../challenge_D/mesh_domains.xdmf\",\n",
    "    boundary_file=\"../challenge_D/mesh_boundaries.xdmf\",\n",
    ")\n",
    "\n",
    "# define materials\n",
    "gold = F.Material(\n",
    "    id=id_solid, D_0=D_Au.pre_exp.magnitude, E_D=D_Au.act_energy.magnitude\n",
    ")\n",
    "my_model.materials = F.Materials([gold])\n",
    "\n",
    "# define temperature\n",
    "my_model.T = F.Temperature(value=500)\n",
    "\n",
    "# define boundary conditions\n",
    "my_model.boundary_conditions = [\n",
    "    F.DirichletBC(surfaces=id_inner_boundary, value=1e18, field=\"solute\"),\n",
    "    F.DirichletBC(\n",
    "        surfaces=id_outer_boundary, value=0, field=\"solute\"\n",
    "    ),\n",
    "]\n",
    "\n",
    "# define exports\n",
    "my_model.exports = F.Exports([F.XDMFExport(\"solute\", folder=\"../challenge_D/\", mode=1)])\n",
    "\n",
    "my_model.settings = F.Settings(\n",
    "    transient=False,\n",
    "    absolute_tolerance=1e-10,\n",
    "    relative_tolerance=1e-10,\n",
    ")\n",
    "\n",
    "my_model.initialise()\n",
    "my_model.run()"
   ]
  }
 ],
 "metadata": {
  "kernelspec": {
   "display_name": "festim-env",
   "language": "python",
   "name": "python3"
  },
  "language_info": {
   "codemirror_mode": {
    "name": "ipython",
    "version": 3
   },
   "file_extension": ".py",
   "mimetype": "text/x-python",
   "name": "python",
   "nbconvert_exporter": "python",
   "pygments_lexer": "ipython3",
   "version": "3.11.9"
  }
 },
 "nbformat": 4,
 "nbformat_minor": 2
}
