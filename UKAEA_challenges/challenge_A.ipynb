{
 "cells": [
  {
   "cell_type": "markdown",
   "metadata": {},
   "source": [
    "## Challenge A: Evaulate the PRF of a Aluminate coating\n",
    "\n",
    "In this exercise you will need to run two FESTIM simulations, one with a 2.5 $\\si{\\micro m}$ thick barrier "
   ]
  },
  {
   "cell_type": "code",
   "execution_count": 2,
   "metadata": {},
   "outputs": [
    {
     "name": "stderr",
     "output_type": "stream",
     "text": [
      "[DESKTOP-6T0UN3L:05764] mca_base_component_repository_open: unable to open mca_btl_openib: librdmacm.so.1: cannot open shared object file: No such file or directory (ignored)\n"
     ]
    }
   ],
   "source": [
    "import festim as F\n",
    "import h_transport_materials as htm\n",
    "import numpy as np\n",
    "\n",
    "# eurofer properties\n",
    "diffusivity_eurofer = htm.diffusivities.filter(material=\"eurofer_97\").filter(\n",
    "    author=\"chen\"\n",
    ")\n",
    "D_eurofer = diffusivity_eurofer[0]\n",
    "\n",
    "solubility_eurofer = htm.solubilities.filter(material=\"eurofer_97\").filter(\n",
    "    author=\"chen\"\n",
    ")\n",
    "S_eurofer = solubility_eurofer[0]\n",
    "\n",
    "# Al2O3 properties\n",
    "diffusivity_al2o3 = (\n",
    "    htm.diffusivities.filter(material=\"alumina\")\n",
    "    .filter(isotope=\"h\")\n",
    "    .filter(author=\"serra\")\n",
    ")\n",
    "D_al2o3 = diffusivity_al2o3[0]\n",
    "solubility_al2o3 = (\n",
    "    htm.solubilities.filter(material=\"alumina\")\n",
    "    .filter(isotope=\"h\")\n",
    "    .filter(author=\"serra\")\n",
    ")\n",
    "S_al2o3 = solubility_al2o3[0]\n",
    "\n",
    "L_eurofer = 0.02\n",
    "L_barrier = 2e-6\n"
   ]
  },
  {
   "cell_type": "code",
   "execution_count": 1,
   "metadata": {},
   "outputs": [
    {
     "ename": "NameError",
     "evalue": "name 'F' is not defined",
     "output_type": "error",
     "traceback": [
      "\u001b[0;31m---------------------------------------------------------------------------\u001b[0m",
      "\u001b[0;31mNameError\u001b[0m                                 Traceback (most recent call last)",
      "Cell \u001b[0;32mIn[1], line 1\u001b[0m\n\u001b[0;32m----> 1\u001b[0m model_with_barrier \u001b[38;5;241m=\u001b[39m \u001b[43mF\u001b[49m\u001b[38;5;241m.\u001b[39mSimulation(log_level\u001b[38;5;241m=\u001b[39m\u001b[38;5;241m40\u001b[39m)\n\u001b[1;32m      3\u001b[0m \u001b[38;5;66;03m# define mesh\u001b[39;00m\n\u001b[1;32m      4\u001b[0m size \u001b[38;5;241m=\u001b[39m L_eurofer \u001b[38;5;241m+\u001b[39m L_barrier\n",
      "\u001b[0;31mNameError\u001b[0m: name 'F' is not defined"
     ]
    }
   ],
   "source": [
    "# model_with_barrier = F.Simulation(log_level=40)\n",
    "\n",
    "# # define mesh\n",
    "# size = L_eurofer + L_barrier\n",
    "# cells_required = int(size / 1e-07)\n",
    "# vertices = np.linspace(0, size, num=cells_required)\n",
    "\n",
    "# model_with_barrier.mesh = F.MeshFromVertices(vertices=vertices)\n",
    "\n",
    "# # define materials\n",
    "# eurofer = F.Material(\n",
    "#     id=2,\n",
    "#     borders=[0, L_eurofer],\n",
    "#     D_0=D_eurofer.pre_exp.magnitude,\n",
    "#     E_D=D_eurofer.act_energy.magnitude,\n",
    "#     S_0=S_eurofer.pre_exp.magnitude,\n",
    "#     E_S=S_eurofer.act_energy.magnitude,\n",
    "# )\n",
    "# al2o3 = F.Material(\n",
    "#     id=1,\n",
    "#     borders=[0, L_lipb],\n",
    "#     D_0=D_pbli.pre_exp.magnitude,\n",
    "#     E_D=D_pbli.act_energy.magnitude,\n",
    "#     S_0=S_pbli.pre_exp.magnitude,\n",
    "#     E_S=S_pbli.act_energy.magnitude,\n",
    "# )\n",
    "# my_model.materials = F.Materials([lipb, eurofer])\n",
    "\n",
    "# # define temperature\n",
    "# my_model.T = F.Temperature(value=T)\n",
    "\n",
    "# # define boundary conditions\n",
    "# my_model.boundary_conditions = [\n",
    "#     F.DirichletBC(surfaces=1, value=1e20, field=\"solute\"),\n",
    "#     F.DirichletBC(surfaces=2, value=0, field=\"solute\"),\n",
    "# ]\n",
    "\n",
    "# # define settings\n",
    "# my_model.settings = F.Settings(\n",
    "#     absolute_tolerance=1e10,\n",
    "#     relative_tolerance=1e-10,\n",
    "#     maximum_iterations=30,\n",
    "#     transient=False,\n",
    "#     chemical_pot=True,\n",
    "# )\n",
    "\n",
    "# # define exports\n",
    "# my_derived_quantities = F.DerivedQuantities(\n",
    "#     [\n",
    "#         F.TotalVolume(\"solute\", volume=1),\n",
    "#         F.TotalVolume(\"solute\", volume=2),\n",
    "#         F.SurfaceFlux(\"solute\", surface=2),\n",
    "#     ],\n",
    "#     filename=results_folder + \"derived_quantities.csv\", \n",
    "# )\n",
    "# my_model.exports = F.Exports(\n",
    "#     [\n",
    "#         F.XDMFExport(\n",
    "#             \"solute\",\n",
    "#             label=\"solute\",\n",
    "#             folder=results_folder,\n",
    "#             checkpoint=False,\n",
    "#             mode=1,\n",
    "#         ),\n",
    "#         my_derived_quantities,\n",
    "#     ]\n",
    "# )\n",
    "\n",
    "# # run simulation\n",
    "# my_model.initialise()\n",
    "# my_model.run()"
   ]
  }
 ],
 "metadata": {
  "kernelspec": {
   "display_name": "festim-env",
   "language": "python",
   "name": "python3"
  },
  "language_info": {
   "codemirror_mode": {
    "name": "ipython",
    "version": 3
   },
   "file_extension": ".py",
   "mimetype": "text/x-python",
   "name": "python",
   "nbconvert_exporter": "python",
   "pygments_lexer": "ipython3",
   "version": "3.11.9"
  }
 },
 "nbformat": 4,
 "nbformat_minor": 2
}
