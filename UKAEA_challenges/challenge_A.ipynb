{
 "cells": [
  {
   "cell_type": "code",
   "execution_count": null,
   "metadata": {},
   "outputs": [],
   "source": [
    "import festim as F\n",
    "import h_transport_materials as htm\n",
    "\n",
    "\n",
    "# properties\n",
    "diffusivity = htm.diffusivities.filter(material=\"tungsten\")\n",
    "D = diffusivity[0]"
   ]
  }
 ],
 "metadata": {
  "language_info": {
   "name": "python"
  }
 },
 "nbformat": 4,
 "nbformat_minor": 2
}
