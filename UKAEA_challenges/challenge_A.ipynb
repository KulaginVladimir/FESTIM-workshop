{
 "cells": [
  {
   "cell_type": "markdown",
   "metadata": {},
   "source": [
    "# Challenge A: Evaulate the PRF of a Aluminate coating\n",
    "\n",
    "## Description\n",
    "\n",
    "A 2cm substrate of Eurofer is coated with Aluminate to reduce hydrogen permeation. \n",
    "\n",
    "In this exercise you will need to run two FESTIM simulations, one with a 2.5 $\\mu \\text{m}$ thick barrier. Consider a 1D geometry, with fixed concentrations on either side of the domain, at values of $10^{18}$ and $0$. The temperature must be fixed at 600K.\n",
    "\n",
    "**📖 Task: Evaluate the effectiveness of this barrier by quantifying the PRF:**\n",
    "\n",
    "$$\n",
    "\\text{PRF} = \\frac{\\Phi_{\\text{uncoated}}}{\\Phi_{\\text{coated}}}\n",
    "$$\n",
    "\n",
    "The transport properties for the Eurofer and Aluminate can be found below:"
   ]
  },
  {
   "cell_type": "code",
   "execution_count": null,
   "metadata": {},
   "outputs": [],
   "source": [
    "import h_transport_materials as htm\n",
    "\n",
    "# eurofer properties\n",
    "diffusivity_eurofer = htm.diffusivities.filter(material=\"eurofer_97\").filter(\n",
    "    author=\"chen\"\n",
    ")\n",
    "D_eurofer = diffusivity_eurofer[0]\n",
    "\n",
    "solubility_eurofer = htm.solubilities.filter(material=\"eurofer_97\").filter(\n",
    "    author=\"chen\"\n",
    ")\n",
    "S_eurofer = solubility_eurofer[0]\n",
    "\n",
    "# Al2O3 properties\n",
    "diffusivity_al2o3 = (\n",
    "    htm.diffusivities.filter(material=\"alumina\")\n",
    "    .filter(isotope=\"h\")\n",
    "    .filter(author=\"serra\")\n",
    ")\n",
    "D_al2o3 = diffusivity_al2o3[0]\n",
    "solubility_al2o3 = (\n",
    "    htm.solubilities.filter(material=\"alumina\")\n",
    "    .filter(isotope=\"h\")\n",
    "    .filter(author=\"serra\")\n",
    ")\n",
    "S_al2o3 = solubility_al2o3[0]"
   ]
  },
  {
   "cell_type": "code",
   "execution_count": null,
   "metadata": {},
   "outputs": [],
   "source": [
    "import festim as F\n",
    "\n",
    "# YOUR CODE GOES HERE ...\n",
    "\n",
    "\n"
   ]
  }
 ],
 "metadata": {
  "kernelspec": {
   "display_name": "festim-env",
   "language": "python",
   "name": "python3"
  },
  "language_info": {
   "codemirror_mode": {
    "name": "ipython",
    "version": 3
   },
   "file_extension": ".py",
   "mimetype": "text/x-python",
   "name": "python",
   "nbconvert_exporter": "python",
   "pygments_lexer": "ipython3",
   "version": "3.11.9"
  }
 },
 "nbformat": 4,
 "nbformat_minor": 2
}
