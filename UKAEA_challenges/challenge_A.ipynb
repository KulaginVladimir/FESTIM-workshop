{
 "cells": [
  {
   "cell_type": "markdown",
   "metadata": {},
   "source": [
    "# Challenge A: Evaulate the PRF of a Aluminate coating\n",
    "\n",
    "## Description\n",
    "\n",
    "A 2cm substrate of Eurofer is coated with Aluminate to reduce hydrogen permeation. \n",
    "\n",
    "In this exercise you will need to run two FESTIM simulations, one with a 2.5 $\\mu \\text{m}$ thick barrier. Consider a 1D geometry, with fixed concentrations on either side of the domain, at values of $10^{18} \\ \\mathrm{m^{-3}}$ and $0 \\ \\mathrm{m^{-3}}$. The temperature must be fixed at 600K.\n",
    "\n",
    "**📖 Task: Evaluate the effectiveness of this barrier by quantifying the PRF:**\n",
    "\n",
    "$$\n",
    "\\text{PRF} = \\frac{\\Phi_{\\text{uncoated}}}{\\Phi_{\\text{coated}}}\n",
    "$$\n",
    "\n",
    "The transport properties for the Eurofer and Aluminate can be found below:"
   ]
  },
  {
   "cell_type": "code",
   "execution_count": 1,
   "metadata": {},
   "outputs": [
    {
     "name": "stdout",
     "output_type": "stream",
     "text": [
      "Diffusivity of EUROFER: \n",
      " \n",
      "        Author: Chen\n",
      "        Material: eurofer_97\n",
      "        Year: 2021\n",
      "        Isotope: D\n",
      "        Pre-exponential factor: 3.12×10⁻⁸ m²/s\n",
      "        Activation energy: 6.14×10⁻² eV/particle\n",
      "        \n",
      "Solubility of EUROFER: \n",
      " \n",
      "        Author: Chen\n",
      "        Material: eurofer_97\n",
      "        Year: 2021\n",
      "        Isotope: D\n",
      "        Pre-exponential factor: 2.41×10²³ particle/m³/Pa⁰⋅⁵\n",
      "        Activation energy: 3.03×10⁻¹ eV/particle\n",
      "        \n"
     ]
    }
   ],
   "source": [
    "import h_transport_materials as htm\n",
    "\n",
    "# eurofer properties\n",
    "diffusivity_eurofer = htm.diffusivities.filter(material=\"eurofer_97\").filter(\n",
    "    author=\"chen\"\n",
    ")[0]\n",
    "\n",
    "solubility_eurofer = htm.solubilities.filter(material=\"eurofer_97\").filter(\n",
    "    author=\"chen\"\n",
    ")[0]\n",
    "\n",
    "print(f\"Diffusivity of EUROFER: \\n {diffusivity_eurofer}\")\n",
    "print(f\"Solubility of EUROFER: \\n {solubility_eurofer}\")"
   ]
  },
  {
   "cell_type": "code",
   "execution_count": 2,
   "metadata": {},
   "outputs": [
    {
     "name": "stdout",
     "output_type": "stream",
     "text": [
      "Diffusivity of alumina: \n",
      " \n",
      "        Author: Serra\n",
      "        Material: alumina\n",
      "        Year: 2004\n",
      "        Isotope: H\n",
      "        Pre-exponential factor: 7.87×10⁻⁸ m²/s\n",
      "        Activation energy: 8.07×10⁻¹ eV/particle\n",
      "        \n",
      "Solubility of alumina: \n",
      " \n",
      "        Author: Serra\n",
      "        Material: alumina\n",
      "        Year: 2004\n",
      "        Isotope: H\n",
      "        Pre-exponential factor: 3.74×10²¹ particle/m³/Pa⁰⋅⁵\n",
      "        Activation energy: 2.45×10⁻¹ eV/particle\n",
      "        \n"
     ]
    }
   ],
   "source": [
    "# Al2O3 properties\n",
    "diffusivity_al2o3 = (\n",
    "    htm.diffusivities.filter(material=\"alumina\")\n",
    "    .filter(isotope=\"h\")\n",
    "    .filter(author=\"serra\")\n",
    ")[0]\n",
    "\n",
    "solubility_al2o3 = (\n",
    "    htm.solubilities.filter(material=\"alumina\")\n",
    "    .filter(isotope=\"h\")\n",
    "    .filter(author=\"serra\")\n",
    ")[0]\n",
    "\n",
    "print(f\"Diffusivity of alumina: \\n {diffusivity_al2o3}\")\n",
    "print(f\"Solubility of alumina: \\n {solubility_al2o3}\")"
   ]
  },
  {
   "cell_type": "markdown",
   "metadata": {},
   "source": [
    "## Your answer"
   ]
  },
  {
   "cell_type": "code",
   "execution_count": 3,
   "metadata": {},
   "outputs": [],
   "source": [
    "import festim as F\n",
    "\n",
    "# YOUR CODE GOES HERE ...\n",
    "\n",
    "\n"
   ]
  }
 ],
 "metadata": {
  "kernelspec": {
   "display_name": "festim-env",
   "language": "python",
   "name": "python3"
  },
  "language_info": {
   "codemirror_mode": {
    "name": "ipython",
    "version": 3
   },
   "file_extension": ".py",
   "mimetype": "text/x-python",
   "name": "python",
   "nbconvert_exporter": "python",
   "pygments_lexer": "ipython3",
   "version": "3.11.9"
  }
 },
 "nbformat": 4,
 "nbformat_minor": 2
}
